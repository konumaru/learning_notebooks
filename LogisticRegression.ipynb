{
 "cells": [
  {
   "cell_type": "markdown",
   "metadata": {
    "nbpresent": {
     "id": "7fc557be-2cc7-4d73-b3b3-96cc40d4f4d0"
    }
   },
   "source": [
    "# Pythonを使ったロジスティック回帰の実装\n",
    "---"
   ]
  },
  {
   "cell_type": "markdown",
   "metadata": {
    "nbpresent": {
     "id": "bdf59c26-9bad-4371-b127-c37bf54493f6"
    }
   },
   "source": [
    "### 目的関数と最適化手法\n",
    "- 目的関数：達成したい目的を表した関数。\n",
    "- 最適化手法：目的を達成するための方法。  \n",
    "\n",
    "２つの問題に分けるとアルゴリズムが考えやすが、  \n",
    "必ずしも２つに分解しなければならないわけではない。\n",
    "\n",
    "#### オンライン学習\n",
    "オンライン学習とは、データを与えられるたびに逐次的に学習を行うこと。  \n",
    "データは１つずつ与え、N回で終了するのではなく、何度も繰り返しデータを与える。\n",
    "\n",
    "### 確率的勾配降下法\n",
    "目的関数の最小化を目的とする場合に用いる勾配法（最適化手法）の一種。\n",
    "#### 1. 勾配法  \n",
    "パラメータ $w$ を引数としてとる目的関数 $L(w)$ の値を最小化するための手法。  \n",
    "すり鉢状の土地を下に向かって歩いていけば、最後には一番下にたどり着くというイメージ。\n",
    "#### 2. 勾配降下法  \n",
    "目的関数 $L(w)$ , $i$番目のデータを $(x^{(i)}, y^{(i)})$としたとき、次のように表す。\n",
    "\n",
    "$$ L\\,(w) = \\sum_i l\\,(x^{(i)}, y^{(i)}, w) $$\n",
    "\n",
    "分類に成功したら０、間違えたら分離超平面までの距離をその値とするような関数を考える。  \n",
    "\n",
    "$$ l(x^{(i)}, y^{(i)}, w) = max( -y^{(i)}w^Tx^{(i)}, 0 ) $$\n",
    "\n",
    "全て分類できれば $L(w)$ は０をとり、間違いが多くなるとその値が大きくなることになる。  \n",
    "また、目的関数が収束するまで、次式を用いてパラメータ更新を行う。\n",
    "\n",
    "$$ w^{(t+1)} = w^{t} - \\eta^{(t)}\\nabla L(w) $$\n",
    "\n",
    "収束の判定は、 目的関数の値の変化度合いがよく用いられる。  \n",
    "なんらかの正の実数$\\epsilon$を設定し、以下のように表せる。\n",
    "\n",
    "$$ |\\,L\\,(w^{(t+1)}- L\\,(w^{(t)})\\,| < \\epsilon $$\n",
    "\n",
    "#### 3. 確率的勾配降下法  \n",
    "勾配降下法の問題点は、  \n",
    "一度のパラメータ更新に、全てのデータを使って計算をし直すため、計算コストが高いこと。  \n",
    "そこで確率的勾配降下法では、**１つのデータを読み込んだら、そのデータのみを使って勾配を計算し、パラメータを更新する。**  \n",
    "パラメータ更新は、全てのデータに対して行う。また、パラメータ更新の式は以下のようになる。\n",
    "\n",
    "$$ w^{(t+1)} = w^{t} - \\eta^{(t)}\\nabla  l(x^{(t)}, y^{(t)}, w^{(t)}) $$\n",
    "\n",
    "勾配をより上手く近似する手法として、ミニバッチやモーメンタム法がある。\n",
    "\n",
    "### 正則化について\n",
    "正則化には、過学習を防ぐ効果がある。  \n",
    "今まで、損失項と正則化項の和を目的関数とし、最小化をしてきた。\n",
    "- L1正則化　特定のデータの重みを0にする事で、不要なデータを削除する。\n",
    "- L2正則化　データの大きさに応じて0に近づけて、滑らかなモデルとする。  \n",
    "$\\lambda$は、正則化パラメータ。$q=1$のとき、L1正則化。$q=2$のとき、L2正則化。\n",
    "\n",
    "$$ \\frac{\\lambda}{2}||\\,w\\,||^q = \\frac{\\lambda}{2}\\sum_{j=1}^m |\\,w_j|\\,^q $$\n",
    "\n",
    "- それぞれの正則化にはいろいろ問題があって、**Elastic Net**というモデルもある。\n",
    "\n",
    "$$ \\frac{\\lambda}{2}\\sum_{j=1}^m ( \\, \\alpha|\\,w_j|\\, + (1-\\alpha)|\\,w_j|\\,^2) $$"
   ]
  },
  {
   "cell_type": "markdown",
   "metadata": {
    "nbpresent": {
     "id": "e3ecf85e-60e9-48f3-99fd-842f18c9d42b"
    }
   },
   "source": [
    "### ロジスティック回帰\n",
    "ロジスティック回帰の特徴は、出力が確率の制約を満たすこと。（２つのクラスの出力の和が１なるということ）  \n",
    "ここでは、+1, -1に分類することを考える。  \n",
    "\n",
    "データ$x$のとき、出力が$y$である確率は以下のように表せる。\n",
    "$$ P(\\,y\\,|\\,x\\,) = \\frac{1}{1+\\exp(-yw^Tx)} = \\sigma(\\, yw^Tx \\,) $$\n",
    "$-yw^Tx$ が大きいほど、$y$ が１である確率が高くなる。  \n",
    "以上の式より、ロジスティック回帰の目的関数は次式となる。  \n",
    "\n",
    "$$ \\prod_{t=1,2,...}P(\\,y^{(t)}\\,|\\,x^{(t)}\\,) = \\prod_{t=1,2,...}\\sigma(\\, y^{(t)}w^Tx^{(t)} \\,) = \\prod_{t=1,2,...}\\frac{1}{1+\\exp(\\, y^{(t)}w^Tx^{(t)} \\,)} $$\n",
    "\n",
    "この式を**尤度**または**尤度関数**という。このままでは、$exp$の部分がオーバーフローする可能性がある。  \n",
    "そこで、この式の対数をとる。これを**対数尤度**という。\n",
    "\n",
    "$$ \\log\\prod_{t=1,2,...}\\sigma(\\, y^{(t)}w^Tx^{(t)} \\,) = \\sum_{t=1,2,...}\\log\\Bigr(\\frac{1}{1+\\exp(\\, y^{(t)}w^Tx^{(t)} \\,)}\\Bigr) $$\n",
    "\n",
    "対数を取ることで、右辺が $\\sum$ になったため確率的勾配降下法を用いることができる。\n",
    "\n",
    "#### ロジスティック回帰のパラメータ推定\n",
    "実際には、上記の式でパラメータ推定をすると数値的に不安定になる場合がある。  \n",
    "なので、目的関数にL1正則化もしくはL2正則化を付加したものがよく使われる。  \n",
    "\n",
    "また、最適化では最小化を目的とするので、式に$-1$をかけて符号を逆転させる。さらに、L2正則化をつけると、次のようになる。\n",
    "\n",
    "$$ min_w\\,L(\\,w\\,) = - \\sum_{t=1,2,...}\\log\\Bigr(\\frac{1}{1+\\exp(\\, -y^{(t)}w^Tx^{(t)} \\,)}\\Bigr) + C\\,||\\,w\\,||^2 $$\n",
    "\n",
    "目的関数 $l(w)$ を次のように定義する。\n",
    "\n",
    "$$ l(w) = -\\log\\Bigr(\\frac{1}{1+\\exp(\\, -y^{(t)}w^Tx^{(t)} \\,)}\\Bigr) $$\n",
    "\n",
    "$l(w)$ を$w$の$k$次元目となるような$w_k$で偏微分をし、標準シグモイド関数$\\sigma$を使って表すと\n",
    "\n",
    "$$ \\frac{\\sigma l(w)}{\\sigma w_k} = (1- \\sigma (yw^Tx))(-yx_k) $$\n",
    "\n",
    "これに正則化項を加えると、\n",
    "\n",
    "$$ (1- \\sigma (yw^Tx))(-yx_k) + 2C_W $$\n",
    "\n",
    "最終的には、以下の式を損失関数と定義し、最適化する。\n",
    "\n",
    "$$ -\\log\\Bigr(\\frac{1}{1+\\exp(\\, -y^{(t)}w^Tx^{(t)} \\,)}\\Bigr) $$\n",
    "\n",
    "ちなみに、SVMの場合は $ max(1 - y^{(t)}w^Tx^{(t)}, 0) $  を用いる。  \n",
    "SVMに使われているヒンジ損失は、重みを０にできるから多次元のデータのにも強い？\n",
    "\n",
    "![損失関数のグラフ](./data/images/loss_fanc.png)"
   ]
  },
  {
   "cell_type": "markdown",
   "metadata": {},
   "source": [
    "[【メモ】：最適化手法](http://ruder.io/optimizing-gradient-descent/)"
   ]
  },
  {
   "cell_type": "markdown",
   "metadata": {
    "nbpresent": {
     "id": "04e322a8-7812-47b3-895c-45a6440f0e06"
    }
   },
   "source": [
    "## ロジスティック回帰の実装\n",
    "---"
   ]
  },
  {
   "cell_type": "markdown",
   "metadata": {
    "nbpresent": {
     "id": "e88c4302-65fd-431f-ba14-3f99f292152f"
    }
   },
   "source": [
    "- 確率的勾配法の実装"
   ]
  },
  {
   "cell_type": "code",
   "execution_count": 1,
   "metadata": {
    "nbpresent": {
     "id": "bf926e38-4601-48ff-8d43-d735c9181f35"
    }
   },
   "outputs": [],
   "source": [
    "import time\n",
    "import numpy as np\n",
    "\n",
    "%matplotlib inline\n",
    "import matplotlib.pyplot as plt\n",
    "\n",
    "import warnings\n",
    "warnings.filterwarnings('ignore')"
   ]
  },
  {
   "cell_type": "markdown",
   "metadata": {
    "nbpresent": {
     "id": "11afd161-b640-4adb-92b6-ccd4c7a79bce"
    }
   },
   "source": [
    "### 勾配降下法\n",
    "---\n",
    "- 計算量が多い。今回はデータが100行しかないため、計算が終わっているだけ。"
   ]
  },
  {
   "cell_type": "code",
   "execution_count": 2,
   "metadata": {
    "collapsed": true,
    "nbpresent": {
     "id": "456a070f-1e8e-4d92-a7d9-aaa48503c2ad"
    }
   },
   "outputs": [],
   "source": [
    "originPoint = np.array([0, 0])\n",
    "data = np.array([[np.random.randint(100), np.random.randint(100), None] for _ in range(100)])\n",
    "\n",
    "threshold = 70\n",
    "label = np.array([int(threshold >= np.linalg.norm(d[:2]-originPoint)) for d in data])\n",
    "data[:, 2] = label"
   ]
  },
  {
   "cell_type": "code",
   "execution_count": 3,
   "metadata": {
    "collapsed": true,
    "nbpresent": {
     "id": "1f8c4648-9c90-4318-a88f-11a08c84a0bc"
    }
   },
   "outputs": [],
   "source": [
    "def sigmoid(t):\n",
    "    return( 1 / (1 + np.exp( -t )) )"
   ]
  },
  {
   "cell_type": "code",
   "execution_count": 4,
   "metadata": {
    "collapsed": true,
    "nbpresent": {
     "id": "23e96293-dce5-4388-88b4-08b171e568f7"
    }
   },
   "outputs": [],
   "source": [
    "def CostFunction(W, X, y):\n",
    "    m = len(y)\n",
    "    h = sigmoid(X.dot(W).astype(int))\n",
    "    j = -1*(1/m)*(np.log(h).T.dot(y)+np.log(1-h).T.dot(1-y))\n",
    "    return j"
   ]
  },
  {
   "cell_type": "code",
   "execution_count": 5,
   "metadata": {
    "nbpresent": {
     "id": "04d0b267-2161-48ac-8133-c164960ed98e"
    }
   },
   "outputs": [
    {
     "data": {
      "text/plain": [
       "array([0.693147180559945], dtype=object)"
      ]
     },
     "execution_count": 5,
     "metadata": {},
     "output_type": "execute_result"
    }
   ],
   "source": [
    "X = np.c_[np.ones((data.shape[0],1)), data[:, :2]]\n",
    "y = np.c_[data[:,2]]\n",
    "\n",
    "initial_theta = np.zeros(X.shape[1])\n",
    "CostFunction(initial_theta, X, y)"
   ]
  },
  {
   "cell_type": "code",
   "execution_count": 6,
   "metadata": {
    "collapsed": true,
    "nbpresent": {
     "id": "caf00237-fc8e-40dc-825a-fd8c3d4b592c"
    }
   },
   "outputs": [],
   "source": [
    "def gradient_decent (theta, X, y, alpha = 0.001, num_iters = 100000):\n",
    "    m = len(y)\n",
    "    history = np.zeros(num_iters)\n",
    "\n",
    "    for inter in np.arange(num_iters):\n",
    "        h = sigmoid(X.dot(theta).astype(int))\n",
    "        theta = theta - alpha *(1/m)*(X.T.dot(h-y))\n",
    "        history[inter] = CostFunction(theta,X,y)\n",
    "\n",
    "    return(theta, history)"
   ]
  },
  {
   "cell_type": "code",
   "execution_count": 7,
   "metadata": {
    "nbpresent": {
     "id": "9fbd04a3-899d-4b9b-90bc-383cd285bd63"
    }
   },
   "outputs": [
    {
     "name": "stdout",
     "output_type": "stream",
     "text": [
      "elapsed_time:13.784262895584106[sec]\n"
     ]
    }
   ],
   "source": [
    "# %%timeit\n",
    "\n",
    "start = time.time()\n",
    "\n",
    "initial_theta = np.zeros(X.shape[1])\n",
    "theta = initial_theta.reshape(-1,1)\n",
    "cost = CostFunction(initial_theta, X, y)\n",
    "theta, Cost_h= gradient_decent(theta, X, y)\n",
    "\n",
    "elapsed_time = time.time() - start\n",
    "print (\"elapsed_time:{0}\".format(elapsed_time) + \"[sec]\")"
   ]
  },
  {
   "cell_type": "code",
   "execution_count": 8,
   "metadata": {
    "nbpresent": {
     "id": "2817af1a-8e75-47d6-aba4-1bc38e2b75b3"
    }
   },
   "outputs": [
    {
     "name": "stdout",
     "output_type": "stream",
     "text": [
      "[[5.973361043928027]\n",
      " [-0.06958982218071996]\n",
      " [-0.08028613453759577]]\n"
     ]
    },
    {
     "data": {
      "image/png": "[encoded data removed]",
      "text/plain": [
       "<matplotlib.figure.Figure at 0x10eecd4a8>"
      ]
     },
     "metadata": {},
     "output_type": "display_data"
    }
   ],
   "source": [
    "print(theta)\n",
    "plt.plot(Cost_h)\n",
    "plt.ylabel('Cost_h')\n",
    "plt.xlabel('interation')\n",
    "plt.show()"
   ]
  },
  {
   "cell_type": "code",
   "execution_count": 9,
   "metadata": {
    "nbpresent": {
     "id": "b716fec1-4297-4a52-898a-fd4d4441113b"
    }
   },
   "outputs": [
    {
     "name": "stdout",
     "output_type": "stream",
     "text": [
      "[0.91]\n"
     ]
    }
   ],
   "source": [
    "def predict(theta, X, threshold = 0.5):\n",
    "    p = sigmoid(X.dot(theta).astype(int)) >= threshold\n",
    "    return(p.astype('int'))\n",
    "\n",
    "originPoint = np.array([0, 0])\n",
    "data = np.array([[np.random.randint(100), np.random.randint(100), None] for _ in range(100)])\n",
    "\n",
    "threshold = 70\n",
    "label = np.array([int(threshold >= np.linalg.norm(d[:2]-originPoint)) for d in data])\n",
    "data[:, 2] = label\n",
    "\n",
    "x = data[:, :2]\n",
    "X = np.c_[np.ones((x.shape[0])), x]\n",
    "y = data[:, 2]\n",
    "\n",
    "p = predict(theta,X)\n",
    "y = y.astype('int')\n",
    "\n",
    "accuracy_cnt = [(p[i] == y[i]) for i in range(100)]\n",
    "print( sum(accuracy_cnt)/len(y) )"
   ]
  },
  {
   "cell_type": "markdown",
   "metadata": {
    "nbpresent": {
     "id": "4a4e9d94-b2fd-4920-b4ee-2041e9c3b54c"
    }
   },
   "source": [
    "### 確率的勾配降下法(Stochastic Gradient Descent, SGD)\n",
    "---\n",
    "- 勾配降下法に比べて、損失の上下が激しくなる。(グラフは取得する損失の数を少なくしている。)\n",
    "- 計算時間は勾配降下法に比べ、約1/6になっている\n",
    "- 学習が安定しない。学習回数を多くしないと学習データの影響を強く受ける。"
   ]
  },
  {
   "cell_type": "code",
   "execution_count": 10,
   "metadata": {
    "collapsed": true,
    "nbpresent": {
     "id": "235ebdff-daf9-4322-85e4-40d3141f3021"
    }
   },
   "outputs": [],
   "source": [
    "originPoint = np.array([0, 0])\n",
    "data = np.array([[np.random.randint(100), np.random.randint(100), None] for _ in range(100)])\n",
    "\n",
    "threshold = 70\n",
    "label = np.array([int(threshold >= np.linalg.norm(d[:2]-originPoint)) for d in data])\n",
    "data[:, 2] = label"
   ]
  },
  {
   "cell_type": "code",
   "execution_count": 11,
   "metadata": {
    "collapsed": true,
    "nbpresent": {
     "id": "d1e6ab47-cc0b-40b3-ab7d-cc3a37d83770"
    }
   },
   "outputs": [],
   "source": [
    "def sigmoid(z):\n",
    "    return( 1 / (1 + np.exp( -z )) )"
   ]
  },
  {
   "cell_type": "code",
   "execution_count": 12,
   "metadata": {
    "collapsed": true,
    "nbpresent": {
     "id": "e38230f0-3111-4de3-bb46-df2889b98d02"
    }
   },
   "outputs": [],
   "source": [
    "def CostFunction(W, X, y):\n",
    "    h = sigmoid(X.dot(W))\n",
    "    j = -1*(np.log(h)*(y)+np.log(1-h)*(1-y))\n",
    "    return j"
   ]
  },
  {
   "cell_type": "code",
   "execution_count": 13,
   "metadata": {
    "nbpresent": {
     "id": "4c9ad385-8fb2-45b2-a31d-b7bf93ce96a2"
    }
   },
   "outputs": [
    {
     "data": {
      "text/plain": [
       "array([0.6931471805599453], dtype=object)"
      ]
     },
     "execution_count": 13,
     "metadata": {},
     "output_type": "execute_result"
    }
   ],
   "source": [
    "X = np.c_[np.ones((data.shape[0],1)), data[:, :2]]\n",
    "y = np.c_[data[:,2]]\n",
    "\n",
    "initial_theta = np.zeros(X.shape[1])\n",
    "CostFunction(initial_theta, X[0], y[0])"
   ]
  },
  {
   "cell_type": "code",
   "execution_count": 14,
   "metadata": {
    "collapsed": true,
    "nbpresent": {
     "id": "184fddaa-ee58-4ed8-a528-744ffb517a06"
    }
   },
   "outputs": [],
   "source": [
    "def gradient_decent(W, X, y, lr = 0.001, num_iters=1000000):\n",
    "    history = np.array([])\n",
    "    data_size = len(y)\n",
    "    \n",
    "    for t in range(num_iters):\n",
    "        i = t%data_size\n",
    "        h = sigmoid(X[i].dot(W))\n",
    "        W = W - lr *np.array(X[i] * (h-y[i]))\n",
    "        if i==0:\n",
    "            history = np.append(history, CostFunction(W, X[i], y[i]))\n",
    "    return (W, history)"
   ]
  },
  {
   "cell_type": "code",
   "execution_count": 15,
   "metadata": {
    "nbpresent": {
     "id": "7eb56308-d152-455a-8dfd-abb7925c0d61"
    }
   },
   "outputs": [
    {
     "name": "stdout",
     "output_type": "stream",
     "text": [
      "elapsed_time:17.587138175964355[sec]\n"
     ]
    }
   ],
   "source": [
    "# %%timeit\n",
    "\n",
    "start = time.time()\n",
    "\n",
    "initial_theta = np.zeros(X.shape[1])\n",
    "W, Cost_h= gradient_decent(initial_theta, X, y)\n",
    "\n",
    "elapsed_time = time.time() - start\n",
    "print (\"elapsed_time:{0}\".format(elapsed_time) + \"[sec]\")"
   ]
  },
  {
   "cell_type": "code",
   "execution_count": 16,
   "metadata": {
    "nbpresent": {
     "id": "0f0a7f55-1309-49e2-9835-0d36ce96e760"
    }
   },
   "outputs": [
    {
     "name": "stdout",
     "output_type": "stream",
     "text": [
      "[16.72175948477757 -0.21720562981258518 -0.2505719463048586]\n"
     ]
    },
    {
     "data": {
      "image/png": "[encoded data removed]",
      "text/plain": [
       "<matplotlib.figure.Figure at 0x10f31fbe0>"
      ]
     },
     "metadata": {},
     "output_type": "display_data"
    }
   ],
   "source": [
    "print(W)\n",
    "plt.plot(Cost_h[:10000])\n",
    "plt.ylabel('Cost_h')\n",
    "plt.xlabel('interation')\n",
    "plt.show()"
   ]
  },
  {
   "cell_type": "code",
   "execution_count": 17,
   "metadata": {
    "nbpresent": {
     "id": "d76cd623-0a53-44bd-9557-6b05d050235d"
    }
   },
   "outputs": [
    {
     "name": "stdout",
     "output_type": "stream",
     "text": [
      "0.94\n"
     ]
    }
   ],
   "source": [
    "def predict(W, X, threshold = 0.5):\n",
    "    p = sigmoid(X.dot(W).astype(int)) >= threshold\n",
    "    return(p.astype('int'))\n",
    "\n",
    "originPoint = np.array([0, 0])\n",
    "data = np.array([[np.random.randint(100), np.random.randint(100), None] for _ in range(100)])\n",
    "\n",
    "threshold = 70\n",
    "label = np.array([int(threshold >= np.linalg.norm(d[:2]-originPoint)) for d in data])\n",
    "data[:, 2] = label\n",
    "\n",
    "x = data[:, :2]\n",
    "X = np.c_[np.ones((x.shape[0])), x]\n",
    "y = data[:, 2]\n",
    "\n",
    "p = predict(W, X)\n",
    "y = y.astype('int')\n",
    "\n",
    "accuracy_cnt = [(p[i] == y[i]) for i in range(100)]\n",
    "print( sum(accuracy_cnt)/len(y) )"
   ]
  },
  {
   "cell_type": "markdown",
   "metadata": {
    "nbpresent": {
     "id": "dce25890-c0c9-449d-be4f-4b223bd93c11"
    }
   },
   "source": [
    "### 確率的勾配降下法 + ミニバッチ\n",
    "---"
   ]
  },
  {
   "cell_type": "code",
   "execution_count": 3,
   "metadata": {
    "collapsed": true,
    "nbpresent": {
     "id": "64e52659-0624-48dd-b1c9-dc064a77dfe0"
    }
   },
   "outputs": [],
   "source": [
    "originPoint = np.array([0, 0])\n",
    "data = np.array([[np.random.randint(100), np.random.randint(100), None] for _ in range(100)])\n",
    "\n",
    "threshold = 70\n",
    "label = np.array([int(threshold >= np.linalg.norm(d[:2]-originPoint)) for d in data])\n",
    "data[:, 2] = label"
   ]
  },
  {
   "cell_type": "code",
   "execution_count": 4,
   "metadata": {
    "collapsed": true,
    "nbpresent": {
     "id": "d90b4df0-05f1-4ae6-ab47-368b336e4f69"
    }
   },
   "outputs": [],
   "source": [
    "def sigmoid(z):\n",
    "    return( 1 / (1 + np.exp( -z )) )\n",
    "\n",
    "def CostFunction(W, X, y):\n",
    "    m = len(y)\n",
    "    h = sigmoid(X.dot(W).astype(int))\n",
    "    cost = -1*(1/m)*(np.log(h).T.dot(y)+np.log(1-h).T.dot(1-y))\n",
    "    return cost"
   ]
  },
  {
   "cell_type": "code",
   "execution_count": 5,
   "metadata": {
    "nbpresent": {
     "id": "36345927-a004-4997-86f9-9cc712e20c73"
    }
   },
   "outputs": [
    {
     "data": {
      "text/plain": [
       "0.6931471805599453"
      ]
     },
     "execution_count": 5,
     "metadata": {},
     "output_type": "execute_result"
    }
   ],
   "source": [
    "X = np.c_[np.ones((data.shape[0],1)), data[:, :2]]\n",
    "y = data[:,2]\n",
    "\n",
    "initial_theta = np.zeros(X.shape[1])\n",
    "CostFunction(initial_theta, X[:10], y[:10])"
   ]
  },
  {
   "cell_type": "code",
   "execution_count": 9,
   "metadata": {
    "nbpresent": {
     "id": "e02c4355-2e48-47af-b71d-dc2a74e0ed6e"
    }
   },
   "outputs": [],
   "source": [
    "def gradient_decent(W, X, y, lr = 0.001, num_iters=100000, num_batch=10):\n",
    "    history = np.array([])\n",
    "    data_size = len(y)\n",
    "    \n",
    "    num_loop = int(num_iters / (data_size/num_batch))\n",
    "    \n",
    "    for _ in range(num_loop):\n",
    "        for t in range(0, data_size, num_batch):\n",
    "            i = t%data_size\n",
    "            h = sigmoid(X[i:i+num_batch].dot(W).astype(int))\n",
    "            W = W - lr *(1/num_batch)*np.array(X[i:i+num_batch].T.dot(h-y[i:i+num_batch]))\n",
    "            if i%100==0:\n",
    "                history = np.append(history, CostFunction(W, X[i:i+num_batch], y[i:i+num_batch]))\n",
    "    \n",
    "    return (W, history)"
   ]
  },
  {
   "cell_type": "code",
   "execution_count": 22,
   "metadata": {
    "nbpresent": {
     "id": "f9940bbe-92da-4033-92be-4d01a67a3d74"
    }
   },
   "outputs": [
    {
     "name": "stdout",
     "output_type": "stream",
     "text": [
      "elapsed_time:2.437877893447876[sec]\n"
     ]
    }
   ],
   "source": [
    "start = time.time()\n",
    "\n",
    "initial_theta = np.zeros(X.shape[1])\n",
    "W, Cost_h= gradient_decent(initial_theta, X, y)\n",
    "\n",
    "elapsed_time = time.time() - start\n",
    "print (\"elapsed_time:{0}\".format(elapsed_time) + \"[sec]\")"
   ]
  },
  {
   "cell_type": "code",
   "execution_count": 23,
   "metadata": {
    "nbpresent": {
     "id": "f2d30af6-1393-40dc-a34a-f4373e33c4a8"
    }
   },
   "outputs": [
    {
     "name": "stdout",
     "output_type": "stream",
     "text": [
      "[5.810913374532906 -0.057501193098169284 -0.07775806308292302]\n"
     ]
    },
    {
     "data": {
      "image/png": "[encoded data removed]",
      "text/plain": [
       "<matplotlib.figure.Figure at 0x113bcba20>"
      ]
     },
     "metadata": {},
     "output_type": "display_data"
    }
   ],
   "source": [
    "print(W)\n",
    "plt.plot(Cost_h)\n",
    "plt.ylabel('Cost_h')\n",
    "plt.xlabel('interation')\n",
    "plt.show()"
   ]
  },
  {
   "cell_type": "code",
   "execution_count": 40,
   "metadata": {
    "nbpresent": {
     "id": "782ee661-2781-4af8-96ce-956c544a89e9"
    }
   },
   "outputs": [
    {
     "name": "stdout",
     "output_type": "stream",
     "text": [
      "0.88\n"
     ]
    }
   ],
   "source": [
    "def predict(W, X, threshold = 0.5):\n",
    "    p = sigmoid(X.dot(W).astype('float64')) >= threshold\n",
    "    return(p.astype('int'))\n",
    "\n",
    "originPoint = np.array([0, 0])\n",
    "data = np.array([[np.random.randint(100), np.random.randint(100), None] for _ in range(100)])\n",
    "\n",
    "threshold = 70\n",
    "label = np.array([int(threshold >= np.linalg.norm(d[:2]-originPoint)) for d in data])\n",
    "data[:, 2] = label\n",
    "\n",
    "x = data[:, :2]\n",
    "X = np.c_[np.ones((x.shape[0])), x]\n",
    "y = data[:, 2]\n",
    "\n",
    "p = predict(W, X)\n",
    "y = y.astype('int')\n",
    "\n",
    "accuracy_cnt = [(p[i] == y[i]) for i in range(100)]\n",
    "print( sum(accuracy_cnt)/len(y) )"
   ]
  },
  {
   "cell_type": "markdown",
   "metadata": {
    "nbpresent": {
     "id": "bd93ce09-38da-4407-8523-c1d8c1dcfe27"
    }
   },
   "source": [
    "## ロジスティック回帰の他クラス分類への応用\n",
    "---\n",
    "### 多クラス分類\n",
    "- １対他法  \n",
    "クラス数と同じ数の分類器を用意。\n",
    "- １対１法  \n",
    "全てのクラスの組み合わせの分類器を用意。全ての分類器で投票を行い、一番票の多いクラスに分類。  \n",
    "１対他法よりも少し精度が良いことが実験的に知られているが、クラス数の２乗に比例する計算時間がかかる欠点がある。\n",
    "- 誤り訂正出力符号法（ECOC法）  \n",
    "あらかじめ決められた数の分類器を用意。分類器の数を$n$、クラス数を$K$としたとき、以下のようなテーブルを得られる。 \n",
    "\n",
    "|  | $f_1$ | $f_2$ | $f_3$ |\n",
    "|:---:|:---:|:---:|:---:|\n",
    "|クラス1| 0 | 0 | 0 |\n",
    "|クラス2| 0 | 1 | 1 |\n",
    "|クラス3| 1 | 0 | 1 |\n",
    "|クラス4| 1 | 1 | 0 |\n",
    "\n",
    "各分類器で出力された値を並べたものを**コードワード**という。  \n",
    "このコードワードをつかって、ハミング距離が最も近いクラスに分類する。　　\n",
    "\n",
    "ハミング距離とは、桁数が同じ2つの2進数を比較して、異なっている桁の個数をいう。  \n",
    "\n",
    "ハミング距離が同じクラスがあるとき、理論的に最適な解決方法がないため、ランダムに分類を行う。\n",
    "\n",
    "---\n",
    "普通のロジスティック回帰クラスを継承して、分類器をいくつか用意し、  \n",
    "ハミング距離を計算する関数を作ればいけそう。"
   ]
  },
  {
   "cell_type": "markdown",
   "metadata": {
    "nbpresent": {
     "id": "207de1ee-8c9d-44d6-a49a-b6b91d521dea"
    }
   },
   "source": [
    "# クラスにしてみる"
   ]
  },
  {
   "cell_type": "code",
   "execution_count": 122,
   "metadata": {
    "nbpresent": {
     "id": "97c3a7e0-99df-431f-8ca9-cbae33d6a34e"
    }
   },
   "outputs": [],
   "source": [
    "'''入出力, すべてnumpy.\n",
    "・収束条件に分散は用いれないのか。\n",
    "・\n",
    "'''\n",
    "\n",
    "import numpy as np\n",
    "\n",
    "class LogisticRegression():\n",
    "    \n",
    "    def __init__(self):\n",
    "        self.init_state = True    # 重みの初期化判定フラグ\n",
    "        self.W = None                # 重み\n",
    "        self.history = None       # 損失の履歴\n",
    "        self.C = 1                       # 正則化パラメーター\n",
    "\n",
    "    def fit(self, x, y, lr = 0.001, n_batch=10, n_iters=100000, log=False):\n",
    "        X = np.c_[np.ones((x.shape[0])), x]  # 切片の追加\n",
    "        y = y.flatten()\n",
    "        \n",
    "        n_sample, n_features = X.shape\n",
    "        \n",
    "        if self.init_state:\n",
    "            self.W = np.ones(n_features)  # 入力データの次元分重みを用意\n",
    "            self.history = np.array([])\n",
    "            self.init_state = False\n",
    "        \n",
    "        W = self.W\n",
    "        history = self.history\n",
    "\n",
    "        n_loop = int(n_iters / (n_sample/n_batch))\n",
    "        for n in range(n_loop):\n",
    "            for t in range(0, n_sample, n_batch):\n",
    "                i = t%n_sample\n",
    "                h = self.sigmoid(X[i:i+n_batch].dot(W))\n",
    "                W = W - lr *( (1/n_batch)*np.array(X[i:i+n_batch].T.dot(h-y[i:i+n_batch])) )\n",
    "            \n",
    "            history = np.append(history, self.CostFunction(W, X, y))\n",
    "            if n%100==0 and log:\n",
    "                print ('{0}_loop:  cost is {1}'.format(n, history[-1]) )\n",
    "                \n",
    "        self.W, self.history= W, history\n",
    "    \n",
    "    \n",
    "    def predict(self, X, threshold = 0.5):\n",
    "        X = np.c_[np.ones((X.shape[0])), X]\n",
    "        pred = self.sigmoid(X.dot(self.W)) >= threshold\n",
    "        return(pred.astype('int'))\n",
    "    \n",
    "    \n",
    "    def proba(self, X):\n",
    "        X = np.c_[np.ones((X.shape[0])), X]\n",
    "        proba = self.sigmoid(X.dot(self.W))\n",
    "        return(proba)\n",
    "    \n",
    "    \n",
    "    def sigmoid(self, z):\n",
    "        return (1.0 / (1.0 + np.exp(-z.astype('float32'))))\n",
    "    \n",
    "    \n",
    "    def CostFunction(self, W, X, y):\n",
    "        m = len(y)\n",
    "        h = self.sigmoid(X.dot(W))\n",
    "        cost = -1*(1/m)*(np.log(h).T.dot(y)+np.log(1-h).T.dot(1-y))\n",
    "        return cost"
   ]
  },
  {
   "cell_type": "code",
   "execution_count": 123,
   "metadata": {
    "nbpresent": {
     "id": "031951e5-2438-402f-84e2-c5ba866846c3"
    },
    "scrolled": true
   },
   "outputs": [],
   "source": [
    "originPoint = np.array([0, 0])\n",
    "data = np.array([[np.random.randint(100), np.random.randint(100), None] for _ in range(100)])\n",
    "\n",
    "threshold = 70\n",
    "label = np.array([int(threshold >= np.linalg.norm(d[:2]-originPoint)) for d in data])\n",
    "data[:, 2] = label\n",
    "\n",
    "X = data[:80, :2]\n",
    "y = data[:80,2]"
   ]
  },
  {
   "cell_type": "code",
   "execution_count": 124,
   "metadata": {
    "nbpresent": {
     "id": "cf0760dc-92de-40db-83ec-c5b276b859c3"
    },
    "scrolled": true
   },
   "outputs": [],
   "source": [
    "originPoint = np.array([0, 0])\n",
    "data = np.array([[np.random.randint(100), np.random.randint(100), None] for _ in range(100)])\n",
    "\n",
    "threshold = 70\n",
    "label = np.array([int(threshold >= np.linalg.norm(d[:2]-originPoint)) for d in data])\n",
    "data[:, 2] = label\n",
    "\n",
    "X = data[:80, :2]\n",
    "y = data[:80,2]"
   ]
  },
  {
   "cell_type": "code",
   "execution_count": 125,
   "metadata": {
    "nbpresent": {
     "id": "ce7dd832-c81b-480a-acb7-67b6c5bc8670"
    }
   },
   "outputs": [],
   "source": [
    "# モデルの定義\n",
    "clf = LogisticRegression()"
   ]
  },
  {
   "cell_type": "code",
   "execution_count": 126,
   "metadata": {
    "nbpresent": {
     "id": "5da83020-0f34-4f53-8724-7b8da6aaafa2"
    },
    "scrolled": false
   },
   "outputs": [],
   "source": [
    "# 学習\n",
    "clf.fit(X, y)"
   ]
  },
  {
   "cell_type": "code",
   "execution_count": 127,
   "metadata": {
    "nbpresent": {
     "id": "f978ffae-cef4-46c4-83ad-2406617a939c"
    }
   },
   "outputs": [
    {
     "name": "stdout",
     "output_type": "stream",
     "text": [
      "[5.698870891280833 -0.06713532338142161 -0.06110555074767264]\n"
     ]
    },
    {
     "data": {
      "image/png": "[encoded data removed]",
      "text/plain": [
       "<Figure size 432x288 with 1 Axes>"
      ]
     },
     "metadata": {},
     "output_type": "display_data"
    }
   ],
   "source": [
    "print(clf.W)\n",
    "plt.plot(clf.history)\n",
    "plt.ylabel('Cost_h')\n",
    "plt.xlabel('interation')\n",
    "plt.show()"
   ]
  },
  {
   "cell_type": "code",
   "execution_count": 128,
   "metadata": {
    "nbpresent": {
     "id": "19d7fcb7-663d-4471-970f-68237116afb1"
    }
   },
   "outputs": [
    {
     "name": "stdout",
     "output_type": "stream",
     "text": [
      "0.9\n"
     ]
    }
   ],
   "source": [
    "X = data[80:, :2]\n",
    "y = data[80:, 2]\n",
    "\n",
    "p = clf.predict(X)\n",
    "y = y.astype('int')\n",
    "\n",
    "accuracy_cnt = (p==y)\n",
    "print( sum(accuracy_cnt)/len(y) )"
   ]
  },
  {
   "cell_type": "markdown",
   "metadata": {},
   "source": [
    "実データ入れてみた"
   ]
  },
  {
   "cell_type": "code",
   "execution_count": 129,
   "metadata": {},
   "outputs": [],
   "source": [
    "import pandas as pd\n",
    "from sklearn.model_selection import train_test_split"
   ]
  },
  {
   "cell_type": "code",
   "execution_count": 130,
   "metadata": {
    "nbpresent": {
     "id": "31e007ba-c46b-4029-a3ef-fe7fd65810e2"
    }
   },
   "outputs": [
    {
     "data": {
      "text/html": [
       "<div>\n",
       "<style scoped>\n",
       "    .dataframe tbody tr th:only-of-type {\n",
       "        vertical-align: middle;\n",
       "    }\n",
       "\n",
       "    .dataframe tbody tr th {\n",
       "        vertical-align: top;\n",
       "    }\n",
       "\n",
       "    .dataframe thead th {\n",
       "        text-align: right;\n",
       "    }\n",
       "</style>\n",
       "<table border=\"1\" class=\"dataframe\">\n",
       "  <thead>\n",
       "    <tr style=\"text-align: right;\">\n",
       "      <th></th>\n",
       "      <th>id</th>\n",
       "      <th>age</th>\n",
       "      <th>job</th>\n",
       "      <th>marital</th>\n",
       "      <th>education</th>\n",
       "      <th>default</th>\n",
       "      <th>balance</th>\n",
       "      <th>housing</th>\n",
       "      <th>loan</th>\n",
       "      <th>contact</th>\n",
       "      <th>day</th>\n",
       "      <th>month</th>\n",
       "      <th>duration</th>\n",
       "      <th>campaign</th>\n",
       "      <th>pdays</th>\n",
       "      <th>previous</th>\n",
       "      <th>poutcome</th>\n",
       "      <th>y</th>\n",
       "    </tr>\n",
       "  </thead>\n",
       "  <tbody>\n",
       "    <tr>\n",
       "      <th>0</th>\n",
       "      <td>1</td>\n",
       "      <td>39</td>\n",
       "      <td>blue-collar</td>\n",
       "      <td>married</td>\n",
       "      <td>secondary</td>\n",
       "      <td>no</td>\n",
       "      <td>1756</td>\n",
       "      <td>yes</td>\n",
       "      <td>no</td>\n",
       "      <td>cellular</td>\n",
       "      <td>3</td>\n",
       "      <td>apr</td>\n",
       "      <td>939</td>\n",
       "      <td>1</td>\n",
       "      <td>-1</td>\n",
       "      <td>0</td>\n",
       "      <td>unknown</td>\n",
       "      <td>1</td>\n",
       "    </tr>\n",
       "    <tr>\n",
       "      <th>1</th>\n",
       "      <td>2</td>\n",
       "      <td>51</td>\n",
       "      <td>entrepreneur</td>\n",
       "      <td>married</td>\n",
       "      <td>primary</td>\n",
       "      <td>no</td>\n",
       "      <td>1443</td>\n",
       "      <td>no</td>\n",
       "      <td>no</td>\n",
       "      <td>cellular</td>\n",
       "      <td>18</td>\n",
       "      <td>feb</td>\n",
       "      <td>172</td>\n",
       "      <td>10</td>\n",
       "      <td>-1</td>\n",
       "      <td>0</td>\n",
       "      <td>unknown</td>\n",
       "      <td>1</td>\n",
       "    </tr>\n",
       "    <tr>\n",
       "      <th>2</th>\n",
       "      <td>3</td>\n",
       "      <td>36</td>\n",
       "      <td>management</td>\n",
       "      <td>single</td>\n",
       "      <td>tertiary</td>\n",
       "      <td>no</td>\n",
       "      <td>436</td>\n",
       "      <td>no</td>\n",
       "      <td>no</td>\n",
       "      <td>cellular</td>\n",
       "      <td>13</td>\n",
       "      <td>apr</td>\n",
       "      <td>567</td>\n",
       "      <td>1</td>\n",
       "      <td>595</td>\n",
       "      <td>2</td>\n",
       "      <td>failure</td>\n",
       "      <td>1</td>\n",
       "    </tr>\n",
       "    <tr>\n",
       "      <th>3</th>\n",
       "      <td>4</td>\n",
       "      <td>63</td>\n",
       "      <td>retired</td>\n",
       "      <td>married</td>\n",
       "      <td>secondary</td>\n",
       "      <td>no</td>\n",
       "      <td>474</td>\n",
       "      <td>no</td>\n",
       "      <td>no</td>\n",
       "      <td>cellular</td>\n",
       "      <td>25</td>\n",
       "      <td>jan</td>\n",
       "      <td>423</td>\n",
       "      <td>1</td>\n",
       "      <td>-1</td>\n",
       "      <td>0</td>\n",
       "      <td>unknown</td>\n",
       "      <td>1</td>\n",
       "    </tr>\n",
       "    <tr>\n",
       "      <th>4</th>\n",
       "      <td>5</td>\n",
       "      <td>31</td>\n",
       "      <td>management</td>\n",
       "      <td>single</td>\n",
       "      <td>tertiary</td>\n",
       "      <td>no</td>\n",
       "      <td>354</td>\n",
       "      <td>no</td>\n",
       "      <td>no</td>\n",
       "      <td>cellular</td>\n",
       "      <td>30</td>\n",
       "      <td>apr</td>\n",
       "      <td>502</td>\n",
       "      <td>1</td>\n",
       "      <td>9</td>\n",
       "      <td>2</td>\n",
       "      <td>success</td>\n",
       "      <td>1</td>\n",
       "    </tr>\n",
       "  </tbody>\n",
       "</table>\n",
       "</div>"
      ],
      "text/plain": [
       "   id  age           job  marital  education default  balance housing loan  \\\n",
       "0   1   39   blue-collar  married  secondary      no     1756     yes   no   \n",
       "1   2   51  entrepreneur  married    primary      no     1443      no   no   \n",
       "2   3   36    management   single   tertiary      no      436      no   no   \n",
       "3   4   63       retired  married  secondary      no      474      no   no   \n",
       "4   5   31    management   single   tertiary      no      354      no   no   \n",
       "\n",
       "    contact  day month  duration  campaign  pdays  previous poutcome  y  \n",
       "0  cellular    3   apr       939         1     -1         0  unknown  1  \n",
       "1  cellular   18   feb       172        10     -1         0  unknown  1  \n",
       "2  cellular   13   apr       567         1    595         2  failure  1  \n",
       "3  cellular   25   jan       423         1     -1         0  unknown  1  \n",
       "4  cellular   30   apr       502         1      9         2  success  1  "
      ]
     },
     "execution_count": 130,
     "metadata": {},
     "output_type": "execute_result"
    }
   ],
   "source": [
    "origin_df = pd.read_csv('./data/bank_customers.csv')\n",
    "df = origin_df.copy()\n",
    "origin_df.head()"
   ]
  },
  {
   "cell_type": "code",
   "execution_count": 131,
   "metadata": {
    "nbpresent": {
     "id": "8805269d-a565-491a-96aa-276ab268c0b3"
    }
   },
   "outputs": [],
   "source": [
    "'''前処理'''\n",
    "df['education'] = origin_df['education'].map({'unknown': 0, 'primary': 1, 'secondary': 2, 'tertiary':3})\n",
    "df['default'] = origin_df['default'].map({'no': 0, 'yes':1})\n",
    "df['housing'] = origin_df['housing'].map({'no': 0, 'yes':1})\n",
    "df['loan'] = origin_df['loan'].map({'no': 0, 'yes':1})\n",
    "\n",
    "dummy_col = ['job', 'marital', 'contact', 'month', 'poutcome']"
   ]
  },
  {
   "cell_type": "code",
   "execution_count": 132,
   "metadata": {
    "nbpresent": {
     "id": "429c5549-802d-4f81-9bdc-9e73f41a596c"
    }
   },
   "outputs": [
    {
     "data": {
      "text/html": [
       "<div>\n",
       "<style scoped>\n",
       "    .dataframe tbody tr th:only-of-type {\n",
       "        vertical-align: middle;\n",
       "    }\n",
       "\n",
       "    .dataframe tbody tr th {\n",
       "        vertical-align: top;\n",
       "    }\n",
       "\n",
       "    .dataframe thead th {\n",
       "        text-align: right;\n",
       "    }\n",
       "</style>\n",
       "<table border=\"1\" class=\"dataframe\">\n",
       "  <thead>\n",
       "    <tr style=\"text-align: right;\">\n",
       "      <th></th>\n",
       "      <th>id</th>\n",
       "      <th>age</th>\n",
       "      <th>education</th>\n",
       "      <th>default</th>\n",
       "      <th>balance</th>\n",
       "      <th>housing</th>\n",
       "      <th>loan</th>\n",
       "      <th>day</th>\n",
       "      <th>duration</th>\n",
       "      <th>campaign</th>\n",
       "      <th>...</th>\n",
       "      <th>month_jun</th>\n",
       "      <th>month_mar</th>\n",
       "      <th>month_may</th>\n",
       "      <th>month_nov</th>\n",
       "      <th>month_oct</th>\n",
       "      <th>month_sep</th>\n",
       "      <th>poutcome_failure</th>\n",
       "      <th>poutcome_other</th>\n",
       "      <th>poutcome_success</th>\n",
       "      <th>poutcome_unknown</th>\n",
       "    </tr>\n",
       "  </thead>\n",
       "  <tbody>\n",
       "    <tr>\n",
       "      <th>0</th>\n",
       "      <td>1</td>\n",
       "      <td>39</td>\n",
       "      <td>2</td>\n",
       "      <td>0</td>\n",
       "      <td>1756</td>\n",
       "      <td>1</td>\n",
       "      <td>0</td>\n",
       "      <td>3</td>\n",
       "      <td>939</td>\n",
       "      <td>1</td>\n",
       "      <td>...</td>\n",
       "      <td>0</td>\n",
       "      <td>0</td>\n",
       "      <td>0</td>\n",
       "      <td>0</td>\n",
       "      <td>0</td>\n",
       "      <td>0</td>\n",
       "      <td>0</td>\n",
       "      <td>0</td>\n",
       "      <td>0</td>\n",
       "      <td>1</td>\n",
       "    </tr>\n",
       "    <tr>\n",
       "      <th>1</th>\n",
       "      <td>2</td>\n",
       "      <td>51</td>\n",
       "      <td>1</td>\n",
       "      <td>0</td>\n",
       "      <td>1443</td>\n",
       "      <td>0</td>\n",
       "      <td>0</td>\n",
       "      <td>18</td>\n",
       "      <td>172</td>\n",
       "      <td>10</td>\n",
       "      <td>...</td>\n",
       "      <td>0</td>\n",
       "      <td>0</td>\n",
       "      <td>0</td>\n",
       "      <td>0</td>\n",
       "      <td>0</td>\n",
       "      <td>0</td>\n",
       "      <td>0</td>\n",
       "      <td>0</td>\n",
       "      <td>0</td>\n",
       "      <td>1</td>\n",
       "    </tr>\n",
       "    <tr>\n",
       "      <th>2</th>\n",
       "      <td>3</td>\n",
       "      <td>36</td>\n",
       "      <td>3</td>\n",
       "      <td>0</td>\n",
       "      <td>436</td>\n",
       "      <td>0</td>\n",
       "      <td>0</td>\n",
       "      <td>13</td>\n",
       "      <td>567</td>\n",
       "      <td>1</td>\n",
       "      <td>...</td>\n",
       "      <td>0</td>\n",
       "      <td>0</td>\n",
       "      <td>0</td>\n",
       "      <td>0</td>\n",
       "      <td>0</td>\n",
       "      <td>0</td>\n",
       "      <td>1</td>\n",
       "      <td>0</td>\n",
       "      <td>0</td>\n",
       "      <td>0</td>\n",
       "    </tr>\n",
       "    <tr>\n",
       "      <th>3</th>\n",
       "      <td>4</td>\n",
       "      <td>63</td>\n",
       "      <td>2</td>\n",
       "      <td>0</td>\n",
       "      <td>474</td>\n",
       "      <td>0</td>\n",
       "      <td>0</td>\n",
       "      <td>25</td>\n",
       "      <td>423</td>\n",
       "      <td>1</td>\n",
       "      <td>...</td>\n",
       "      <td>0</td>\n",
       "      <td>0</td>\n",
       "      <td>0</td>\n",
       "      <td>0</td>\n",
       "      <td>0</td>\n",
       "      <td>0</td>\n",
       "      <td>0</td>\n",
       "      <td>0</td>\n",
       "      <td>0</td>\n",
       "      <td>1</td>\n",
       "    </tr>\n",
       "    <tr>\n",
       "      <th>4</th>\n",
       "      <td>5</td>\n",
       "      <td>31</td>\n",
       "      <td>3</td>\n",
       "      <td>0</td>\n",
       "      <td>354</td>\n",
       "      <td>0</td>\n",
       "      <td>0</td>\n",
       "      <td>30</td>\n",
       "      <td>502</td>\n",
       "      <td>1</td>\n",
       "      <td>...</td>\n",
       "      <td>0</td>\n",
       "      <td>0</td>\n",
       "      <td>0</td>\n",
       "      <td>0</td>\n",
       "      <td>0</td>\n",
       "      <td>0</td>\n",
       "      <td>0</td>\n",
       "      <td>0</td>\n",
       "      <td>1</td>\n",
       "      <td>0</td>\n",
       "    </tr>\n",
       "  </tbody>\n",
       "</table>\n",
       "<p>5 rows × 47 columns</p>\n",
       "</div>"
      ],
      "text/plain": [
       "   id  age  education  default  balance  housing  loan  day  duration  \\\n",
       "0   1   39          2        0     1756        1     0    3       939   \n",
       "1   2   51          1        0     1443        0     0   18       172   \n",
       "2   3   36          3        0      436        0     0   13       567   \n",
       "3   4   63          2        0      474        0     0   25       423   \n",
       "4   5   31          3        0      354        0     0   30       502   \n",
       "\n",
       "   campaign        ...         month_jun  month_mar  month_may  month_nov  \\\n",
       "0         1        ...                 0          0          0          0   \n",
       "1        10        ...                 0          0          0          0   \n",
       "2         1        ...                 0          0          0          0   \n",
       "3         1        ...                 0          0          0          0   \n",
       "4         1        ...                 0          0          0          0   \n",
       "\n",
       "   month_oct  month_sep  poutcome_failure  poutcome_other  poutcome_success  \\\n",
       "0          0          0                 0               0                 0   \n",
       "1          0          0                 0               0                 0   \n",
       "2          0          0                 1               0                 0   \n",
       "3          0          0                 0               0                 0   \n",
       "4          0          0                 0               0                 1   \n",
       "\n",
       "   poutcome_unknown  \n",
       "0                 1  \n",
       "1                 1  \n",
       "2                 0  \n",
       "3                 1  \n",
       "4                 0  \n",
       "\n",
       "[5 rows x 47 columns]"
      ]
     },
     "execution_count": 132,
     "metadata": {},
     "output_type": "execute_result"
    }
   ],
   "source": [
    "shaped_df = pd.concat([df.drop(dummy_col, axis=1), pd.get_dummies(df[dummy_col])], axis=1)\n",
    "shaped_df.head()"
   ]
  },
  {
   "cell_type": "code",
   "execution_count": 133,
   "metadata": {
    "nbpresent": {
     "id": "70170d7e-9bed-44d8-80ef-27644020919c"
    }
   },
   "outputs": [],
   "source": [
    "normalized_shaped_df = (shaped_df - shaped_df.min()) / (shaped_df.max() - shaped_df.min())"
   ]
  },
  {
   "cell_type": "code",
   "execution_count": 134,
   "metadata": {
    "nbpresent": {
     "id": "06ee8870-22df-43f9-ad49-b32b009b6700"
    }
   },
   "outputs": [
    {
     "data": {
      "text/html": [
       "<div>\n",
       "<style scoped>\n",
       "    .dataframe tbody tr th:only-of-type {\n",
       "        vertical-align: middle;\n",
       "    }\n",
       "\n",
       "    .dataframe tbody tr th {\n",
       "        vertical-align: top;\n",
       "    }\n",
       "\n",
       "    .dataframe thead th {\n",
       "        text-align: right;\n",
       "    }\n",
       "</style>\n",
       "<table border=\"1\" class=\"dataframe\">\n",
       "  <thead>\n",
       "    <tr style=\"text-align: right;\">\n",
       "      <th></th>\n",
       "      <th>id</th>\n",
       "      <th>age</th>\n",
       "      <th>education</th>\n",
       "      <th>default</th>\n",
       "      <th>balance</th>\n",
       "      <th>housing</th>\n",
       "      <th>loan</th>\n",
       "      <th>day</th>\n",
       "      <th>duration</th>\n",
       "      <th>campaign</th>\n",
       "      <th>...</th>\n",
       "      <th>month_jun</th>\n",
       "      <th>month_mar</th>\n",
       "      <th>month_may</th>\n",
       "      <th>month_nov</th>\n",
       "      <th>month_oct</th>\n",
       "      <th>month_sep</th>\n",
       "      <th>poutcome_failure</th>\n",
       "      <th>poutcome_other</th>\n",
       "      <th>poutcome_success</th>\n",
       "      <th>poutcome_unknown</th>\n",
       "    </tr>\n",
       "  </thead>\n",
       "  <tbody>\n",
       "    <tr>\n",
       "      <th>0</th>\n",
       "      <td>0.000000</td>\n",
       "      <td>0.272727</td>\n",
       "      <td>0.666667</td>\n",
       "      <td>0.0</td>\n",
       "      <td>0.078945</td>\n",
       "      <td>1.0</td>\n",
       "      <td>0.0</td>\n",
       "      <td>0.066667</td>\n",
       "      <td>0.190931</td>\n",
       "      <td>0.000000</td>\n",
       "      <td>...</td>\n",
       "      <td>0.0</td>\n",
       "      <td>0.0</td>\n",
       "      <td>0.0</td>\n",
       "      <td>0.0</td>\n",
       "      <td>0.0</td>\n",
       "      <td>0.0</td>\n",
       "      <td>0.0</td>\n",
       "      <td>0.0</td>\n",
       "      <td>0.0</td>\n",
       "      <td>1.0</td>\n",
       "    </tr>\n",
       "    <tr>\n",
       "      <th>1</th>\n",
       "      <td>0.000037</td>\n",
       "      <td>0.428571</td>\n",
       "      <td>0.333333</td>\n",
       "      <td>0.0</td>\n",
       "      <td>0.076073</td>\n",
       "      <td>0.0</td>\n",
       "      <td>0.0</td>\n",
       "      <td>0.566667</td>\n",
       "      <td>0.034974</td>\n",
       "      <td>0.145161</td>\n",
       "      <td>...</td>\n",
       "      <td>0.0</td>\n",
       "      <td>0.0</td>\n",
       "      <td>0.0</td>\n",
       "      <td>0.0</td>\n",
       "      <td>0.0</td>\n",
       "      <td>0.0</td>\n",
       "      <td>0.0</td>\n",
       "      <td>0.0</td>\n",
       "      <td>0.0</td>\n",
       "      <td>1.0</td>\n",
       "    </tr>\n",
       "    <tr>\n",
       "      <th>2</th>\n",
       "      <td>0.000074</td>\n",
       "      <td>0.233766</td>\n",
       "      <td>1.000000</td>\n",
       "      <td>0.0</td>\n",
       "      <td>0.066832</td>\n",
       "      <td>0.0</td>\n",
       "      <td>0.0</td>\n",
       "      <td>0.400000</td>\n",
       "      <td>0.115291</td>\n",
       "      <td>0.000000</td>\n",
       "      <td>...</td>\n",
       "      <td>0.0</td>\n",
       "      <td>0.0</td>\n",
       "      <td>0.0</td>\n",
       "      <td>0.0</td>\n",
       "      <td>0.0</td>\n",
       "      <td>0.0</td>\n",
       "      <td>1.0</td>\n",
       "      <td>0.0</td>\n",
       "      <td>0.0</td>\n",
       "      <td>0.0</td>\n",
       "    </tr>\n",
       "    <tr>\n",
       "      <th>3</th>\n",
       "      <td>0.000111</td>\n",
       "      <td>0.584416</td>\n",
       "      <td>0.666667</td>\n",
       "      <td>0.0</td>\n",
       "      <td>0.067181</td>\n",
       "      <td>0.0</td>\n",
       "      <td>0.0</td>\n",
       "      <td>0.800000</td>\n",
       "      <td>0.086011</td>\n",
       "      <td>0.000000</td>\n",
       "      <td>...</td>\n",
       "      <td>0.0</td>\n",
       "      <td>0.0</td>\n",
       "      <td>0.0</td>\n",
       "      <td>0.0</td>\n",
       "      <td>0.0</td>\n",
       "      <td>0.0</td>\n",
       "      <td>0.0</td>\n",
       "      <td>0.0</td>\n",
       "      <td>0.0</td>\n",
       "      <td>1.0</td>\n",
       "    </tr>\n",
       "    <tr>\n",
       "      <th>4</th>\n",
       "      <td>0.000147</td>\n",
       "      <td>0.168831</td>\n",
       "      <td>1.000000</td>\n",
       "      <td>0.0</td>\n",
       "      <td>0.066080</td>\n",
       "      <td>0.0</td>\n",
       "      <td>0.0</td>\n",
       "      <td>0.966667</td>\n",
       "      <td>0.102074</td>\n",
       "      <td>0.000000</td>\n",
       "      <td>...</td>\n",
       "      <td>0.0</td>\n",
       "      <td>0.0</td>\n",
       "      <td>0.0</td>\n",
       "      <td>0.0</td>\n",
       "      <td>0.0</td>\n",
       "      <td>0.0</td>\n",
       "      <td>0.0</td>\n",
       "      <td>0.0</td>\n",
       "      <td>1.0</td>\n",
       "      <td>0.0</td>\n",
       "    </tr>\n",
       "  </tbody>\n",
       "</table>\n",
       "<p>5 rows × 47 columns</p>\n",
       "</div>"
      ],
      "text/plain": [
       "         id       age  education  default   balance  housing  loan       day  \\\n",
       "0  0.000000  0.272727   0.666667      0.0  0.078945      1.0   0.0  0.066667   \n",
       "1  0.000037  0.428571   0.333333      0.0  0.076073      0.0   0.0  0.566667   \n",
       "2  0.000074  0.233766   1.000000      0.0  0.066832      0.0   0.0  0.400000   \n",
       "3  0.000111  0.584416   0.666667      0.0  0.067181      0.0   0.0  0.800000   \n",
       "4  0.000147  0.168831   1.000000      0.0  0.066080      0.0   0.0  0.966667   \n",
       "\n",
       "   duration  campaign        ...         month_jun  month_mar  month_may  \\\n",
       "0  0.190931  0.000000        ...               0.0        0.0        0.0   \n",
       "1  0.034974  0.145161        ...               0.0        0.0        0.0   \n",
       "2  0.115291  0.000000        ...               0.0        0.0        0.0   \n",
       "3  0.086011  0.000000        ...               0.0        0.0        0.0   \n",
       "4  0.102074  0.000000        ...               0.0        0.0        0.0   \n",
       "\n",
       "   month_nov  month_oct  month_sep  poutcome_failure  poutcome_other  \\\n",
       "0        0.0        0.0        0.0               0.0             0.0   \n",
       "1        0.0        0.0        0.0               0.0             0.0   \n",
       "2        0.0        0.0        0.0               1.0             0.0   \n",
       "3        0.0        0.0        0.0               0.0             0.0   \n",
       "4        0.0        0.0        0.0               0.0             0.0   \n",
       "\n",
       "   poutcome_success  poutcome_unknown  \n",
       "0               0.0               1.0  \n",
       "1               0.0               1.0  \n",
       "2               0.0               0.0  \n",
       "3               0.0               1.0  \n",
       "4               1.0               0.0  \n",
       "\n",
       "[5 rows x 47 columns]"
      ]
     },
     "execution_count": 134,
     "metadata": {},
     "output_type": "execute_result"
    }
   ],
   "source": [
    "normalized_shaped_df.head()"
   ]
  },
  {
   "cell_type": "code",
   "execution_count": 135,
   "metadata": {
    "nbpresent": {
     "id": "998ec785-61f5-4cdf-831e-6920145f1164"
    }
   },
   "outputs": [],
   "source": [
    "X = normalized_shaped_df.drop(['id', 'y'], axis=1).values\n",
    "Y = normalized_shaped_df['y'].values\n",
    "\n",
    "trainX, testX, trainY, testY = train_test_split(X, Y, test_size=0.3, random_state=42)"
   ]
  },
  {
   "cell_type": "code",
   "execution_count": 152,
   "metadata": {
    "nbpresent": {
     "id": "da7db40f-eae6-451d-aee3-bd7aebb5805e"
    }
   },
   "outputs": [],
   "source": [
    "clf = LogisticRegression()"
   ]
  },
  {
   "cell_type": "code",
   "execution_count": 153,
   "metadata": {
    "nbpresent": {
     "id": "0744d7a3-1a4a-445c-b6d6-1259fb42ee3a"
    },
    "scrolled": true
   },
   "outputs": [
    {
     "name": "stdout",
     "output_type": "stream",
     "text": [
      "0_loop:  cost is 0.3421779131240002\n",
      "100_loop:  cost is 0.2576675131438611\n",
      "200_loop:  cost is 0.24651457859994003\n",
      "300_loop:  cost is 0.24305801051603623\n",
      "400_loop:  cost is 0.24179066958192982\n",
      "500_loop:  cost is 0.24126226688275773\n",
      "600_loop:  cost is 0.24102376797732053\n",
      "700_loop:  cost is 0.2408755972727588\n",
      "800_loop:  cost is 0.24082284940949403\n",
      "900_loop:  cost is 0.24076485618941282\n",
      "1000_loop:  cost is 0.24072348642948552\n"
     ]
    }
   ],
   "source": [
    "clf.fit(trainX, trainY, n_iters=2000000, log=True,  lr=0.01)"
   ]
  },
  {
   "cell_type": "code",
   "execution_count": 154,
   "metadata": {
    "nbpresent": {
     "id": "70faa90e-97bd-4ba0-a514-c54cc90a0291"
    }
   },
   "outputs": [
    {
     "data": {
      "image/png": "[encoded data removed]",
      "text/plain": [
       "<Figure size 432x288 with 1 Axes>"
      ]
     },
     "metadata": {},
     "output_type": "display_data"
    }
   ],
   "source": [
    "plt.plot(clf.history)\n",
    "plt.ylabel('Cost_h')\n",
    "plt.xlabel('interation')\n",
    "plt.show()"
   ]
  },
  {
   "cell_type": "code",
   "execution_count": 155,
   "metadata": {
    "nbpresent": {
     "id": "68508bfd-6587-4475-9d10-713d9eb8e427"
    },
    "scrolled": false
   },
   "outputs": [
    {
     "data": {
      "text/plain": [
       "0.90219928738174227"
      ]
     },
     "execution_count": 155,
     "metadata": {},
     "output_type": "execute_result"
    }
   ],
   "source": [
    "pred = clf.predict(testX)\n",
    "sum(pred==testY) / len(testY)"
   ]
  },
  {
   "cell_type": "code",
   "execution_count": 156,
   "metadata": {
    "nbpresent": {
     "id": "582feeb8-fd86-4bdc-a68a-4394197cc133"
    }
   },
   "outputs": [],
   "source": [
    "from sklearn.metrics import roc_curve, auc\n",
    "\n",
    "prob = clf.proba(testX)\n",
    "fpr, tpr, thresholds = roc_curve(testY, prob)\n",
    "roc_auc = auc(fpr, tpr)"
   ]
  },
  {
   "cell_type": "code",
   "execution_count": 157,
   "metadata": {
    "nbpresent": {
     "id": "ca844c5a-251a-4ad8-bcaa-0d4e3dcbcd94"
    }
   },
   "outputs": [
    {
     "data": {
      "image/png": "[encoded data removed]",
      "text/plain": [
       "<Figure size 432x288 with 1 Axes>"
      ]
     },
     "metadata": {},
     "output_type": "display_data"
    }
   ],
   "source": [
    "plt.plot(fpr, tpr, label='ROC curve (area = {0:.2f})'.format(roc_auc))\n",
    "plt.plot([0, 1], [0, 1], 'k--')\n",
    "plt.title('ROC curve')\n",
    "plt.xlabel('False Positive Rate')\n",
    "plt.ylabel('True Positive Rate')\n",
    "plt.legend(loc=\"lower right\")\n",
    "plt.grid()\n",
    "plt.tight_layout()"
   ]
  },
  {
   "cell_type": "code",
   "execution_count": null,
   "metadata": {},
   "outputs": [],
   "source": []
  },
  {
   "cell_type": "code",
   "execution_count": null,
   "metadata": {},
   "outputs": [],
   "source": []
  },
  {
   "cell_type": "code",
   "execution_count": null,
   "metadata": {},
   "outputs": [],
   "source": []
  },
  {
   "cell_type": "code",
   "execution_count": null,
   "metadata": {},
   "outputs": [],
   "source": []
  },
  {
   "cell_type": "code",
   "execution_count": null,
   "metadata": {},
   "outputs": [],
   "source": []
  }
 ],
 "metadata": {
  "kernelspec": {
   "display_name": "Python 3",
   "language": "python",
   "name": "python3"
  },
  "language_info": {
   "codemirror_mode": {
    "name": "ipython",
    "version": 3
   },
   "file_extension": ".py",
   "mimetype": "text/x-python",
   "name": "python",
   "nbconvert_exporter": "python",
   "pygments_lexer": "ipython3",
   "version": "3.6.4"
  }
 },
 "nbformat": 4,
 "nbformat_minor": 2
}
