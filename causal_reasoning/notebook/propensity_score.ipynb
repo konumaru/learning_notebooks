{
 "cells": [
  {
   "cell_type": "markdown",
   "metadata": {},
   "source": [
    "# 傾向スコアマッチングをやってみる。\n",
    "\n",
    "## やってみたいこと\n",
    "- sampleデータで傾向スコアを求める。\n",
    "- マッチング処理をする。\n",
    "    - 今回は1対1マッチングを採用\n",
    "- ATEを求める\n",
    "- ATTを求める"
   ]
  },
  {
   "cell_type": "markdown",
   "metadata": {},
   "source": [
    "### 言葉の定義\n",
    "\n",
    "- 結果変数：outcome\n",
    "    - 潜在的結果変数：potential outcome\n",
    "- 介入行為：intervention\n",
    "- 介入群における平均処置効果：ATT（Average Treatment Effect on the Treated）\n",
    "- 対照群における平均処置効果：ATU（Average Treatment Effect on the Untreated）\n",
    "- ATE（Average Treatment Effect）\n",
    "    - ATT - ATU\n",
    "- LATE（Local Average Treatment Effect）\n",
    "    - 簡単に言うと、介入行為を操作変数法として扱いATEを算出したもの\n",
    "        - RCTの結果、介入群に割り当てられたものの、割り当てに従わない個体もいることを加味する。\n",
    "        - つまり、「ATEなんだけれども、介入効果を過小評価したものですよ」というのを明示的に言っている。\n",
    "    - Libraryとしては、まとめてATEとして扱って良いと思う。\n",
    "- CATE（Calculating Individual Treatment Effect）\n",
    "\n",
    "### わからないこと\n",
    "- IPWってなに\n",
    "- ダブルロバストってどんな計算式。"
   ]
  },
  {
   "cell_type": "code",
   "execution_count": 1,
   "metadata": {},
   "outputs": [],
   "source": [
    "import os\n",
    "import numpy as np\n",
    "import pandas as pd\n",
    "\n",
    "import matplotlib.pyplot as plt\n",
    "%matplotlib inline"
   ]
  },
  {
   "cell_type": "code",
   "execution_count": 2,
   "metadata": {},
   "outputs": [],
   "source": [
    "import urllib.request\n",
    "\n",
    "def download_file(url, filepath):\n",
    "    urllib.request.urlretrieve(url, filepath)"
   ]
  },
  {
   "cell_type": "markdown",
   "metadata": {},
   "source": [
    "まずは、サンプルデータを取得する。"
   ]
  },
  {
   "cell_type": "code",
   "execution_count": 3,
   "metadata": {},
   "outputs": [],
   "source": [
    "url = \"https://raw.githubusercontent.com/iwanami-datascience/vol3/master/kato%26hoshino/q_data_x.csv\"\n",
    "filepath = \"../data/sample.csv\"\n",
    "\n",
    "if not os.path.exists(filepath):\n",
    "    download_file(url, filepath)\n",
    "\n",
    "raw_df = pd.read_csv(filepath)"
   ]
  },
  {
   "cell_type": "code",
   "execution_count": 4,
   "metadata": {},
   "outputs": [
    {
     "name": "stdout",
     "output_type": "stream",
     "text": [
      "データサイズ: 10,000\n"
     ]
    },
    {
     "data": {
      "text/html": [
       "<div>\n",
       "<style scoped>\n",
       "    .dataframe tbody tr th:only-of-type {\n",
       "        vertical-align: middle;\n",
       "    }\n",
       "\n",
       "    .dataframe tbody tr th {\n",
       "        vertical-align: top;\n",
       "    }\n",
       "\n",
       "    .dataframe thead th {\n",
       "        text-align: right;\n",
       "    }\n",
       "</style>\n",
       "<table border=\"1\" class=\"dataframe\">\n",
       "  <thead>\n",
       "    <tr style=\"text-align: right;\">\n",
       "      <th></th>\n",
       "      <th>cm_dummy</th>\n",
       "      <th>gamedummy</th>\n",
       "      <th>area_kanto</th>\n",
       "      <th>area_keihan</th>\n",
       "      <th>area_tokai</th>\n",
       "      <th>area_keihanshin</th>\n",
       "      <th>age</th>\n",
       "      <th>sex</th>\n",
       "      <th>marry_dummy</th>\n",
       "      <th>job_dummy1</th>\n",
       "      <th>...</th>\n",
       "      <th>T</th>\n",
       "      <th>F1</th>\n",
       "      <th>F2</th>\n",
       "      <th>F3</th>\n",
       "      <th>M1</th>\n",
       "      <th>M2</th>\n",
       "      <th>M3</th>\n",
       "      <th>TVwatch_day</th>\n",
       "      <th>gamesecond</th>\n",
       "      <th>gamecount</th>\n",
       "    </tr>\n",
       "  </thead>\n",
       "  <tbody>\n",
       "    <tr>\n",
       "      <th>0</th>\n",
       "      <td>0</td>\n",
       "      <td>0</td>\n",
       "      <td>0</td>\n",
       "      <td>0</td>\n",
       "      <td>0</td>\n",
       "      <td>1</td>\n",
       "      <td>44.5</td>\n",
       "      <td>1</td>\n",
       "      <td>1</td>\n",
       "      <td>1</td>\n",
       "      <td>...</td>\n",
       "      <td>0</td>\n",
       "      <td>0</td>\n",
       "      <td>0</td>\n",
       "      <td>0</td>\n",
       "      <td>0</td>\n",
       "      <td>1</td>\n",
       "      <td>0</td>\n",
       "      <td>33.427600</td>\n",
       "      <td>0</td>\n",
       "      <td>0</td>\n",
       "    </tr>\n",
       "    <tr>\n",
       "      <th>1</th>\n",
       "      <td>0</td>\n",
       "      <td>0</td>\n",
       "      <td>0</td>\n",
       "      <td>1</td>\n",
       "      <td>0</td>\n",
       "      <td>0</td>\n",
       "      <td>34.5</td>\n",
       "      <td>1</td>\n",
       "      <td>1</td>\n",
       "      <td>1</td>\n",
       "      <td>...</td>\n",
       "      <td>0</td>\n",
       "      <td>0</td>\n",
       "      <td>0</td>\n",
       "      <td>0</td>\n",
       "      <td>0</td>\n",
       "      <td>1</td>\n",
       "      <td>0</td>\n",
       "      <td>31.542862</td>\n",
       "      <td>0</td>\n",
       "      <td>0</td>\n",
       "    </tr>\n",
       "    <tr>\n",
       "      <th>2</th>\n",
       "      <td>0</td>\n",
       "      <td>0</td>\n",
       "      <td>0</td>\n",
       "      <td>1</td>\n",
       "      <td>0</td>\n",
       "      <td>0</td>\n",
       "      <td>24.5</td>\n",
       "      <td>1</td>\n",
       "      <td>0</td>\n",
       "      <td>0</td>\n",
       "      <td>...</td>\n",
       "      <td>0</td>\n",
       "      <td>0</td>\n",
       "      <td>0</td>\n",
       "      <td>0</td>\n",
       "      <td>1</td>\n",
       "      <td>0</td>\n",
       "      <td>0</td>\n",
       "      <td>37.825805</td>\n",
       "      <td>0</td>\n",
       "      <td>0</td>\n",
       "    </tr>\n",
       "    <tr>\n",
       "      <th>3</th>\n",
       "      <td>0</td>\n",
       "      <td>0</td>\n",
       "      <td>0</td>\n",
       "      <td>1</td>\n",
       "      <td>0</td>\n",
       "      <td>0</td>\n",
       "      <td>44.5</td>\n",
       "      <td>1</td>\n",
       "      <td>1</td>\n",
       "      <td>1</td>\n",
       "      <td>...</td>\n",
       "      <td>0</td>\n",
       "      <td>0</td>\n",
       "      <td>0</td>\n",
       "      <td>0</td>\n",
       "      <td>0</td>\n",
       "      <td>1</td>\n",
       "      <td>0</td>\n",
       "      <td>36.345911</td>\n",
       "      <td>0</td>\n",
       "      <td>0</td>\n",
       "    </tr>\n",
       "    <tr>\n",
       "      <th>4</th>\n",
       "      <td>0</td>\n",
       "      <td>0</td>\n",
       "      <td>0</td>\n",
       "      <td>1</td>\n",
       "      <td>0</td>\n",
       "      <td>0</td>\n",
       "      <td>34.5</td>\n",
       "      <td>1</td>\n",
       "      <td>1</td>\n",
       "      <td>1</td>\n",
       "      <td>...</td>\n",
       "      <td>0</td>\n",
       "      <td>0</td>\n",
       "      <td>0</td>\n",
       "      <td>0</td>\n",
       "      <td>1</td>\n",
       "      <td>0</td>\n",
       "      <td>0</td>\n",
       "      <td>49.344942</td>\n",
       "      <td>0</td>\n",
       "      <td>0</td>\n",
       "    </tr>\n",
       "  </tbody>\n",
       "</table>\n",
       "<p>5 rows × 35 columns</p>\n",
       "</div>"
      ],
      "text/plain": [
       "   cm_dummy  gamedummy  area_kanto  area_keihan  area_tokai  area_keihanshin  \\\n",
       "0         0          0           0            0           0                1   \n",
       "1         0          0           0            1           0                0   \n",
       "2         0          0           0            1           0                0   \n",
       "3         0          0           0            1           0                0   \n",
       "4         0          0           0            1           0                0   \n",
       "\n",
       "    age  sex  marry_dummy  job_dummy1  ...  T  F1  F2  F3  M1  M2  M3  \\\n",
       "0  44.5    1            1           1  ...  0   0   0   0   0   1   0   \n",
       "1  34.5    1            1           1  ...  0   0   0   0   0   1   0   \n",
       "2  24.5    1            0           0  ...  0   0   0   0   1   0   0   \n",
       "3  44.5    1            1           1  ...  0   0   0   0   0   1   0   \n",
       "4  34.5    1            1           1  ...  0   0   0   0   1   0   0   \n",
       "\n",
       "   TVwatch_day  gamesecond  gamecount  \n",
       "0    33.427600           0          0  \n",
       "1    31.542862           0          0  \n",
       "2    37.825805           0          0  \n",
       "3    36.345911           0          0  \n",
       "4    49.344942           0          0  \n",
       "\n",
       "[5 rows x 35 columns]"
      ]
     },
     "execution_count": 4,
     "metadata": {},
     "output_type": "execute_result"
    }
   ],
   "source": [
    "print(f'データサイズ: {raw_df.shape[0]:,}')\n",
    "raw_df.head()"
   ]
  },
  {
   "cell_type": "markdown",
   "metadata": {},
   "source": [
    "ここでは、「テレビCMの接触有無」が「スマートフォンアプリの利用時間」にどれくらい影響するのかを分析する。\n",
    "\n",
    "最も簡単にCMがアプリ利用時間に影響する効果を計算する方法は、「CMを見た人の平均スマートフォンアプリの利用時間」と「CMを見みてない人の平均スマートフォンアプリの利用時間 」の差になる。"
   ]
  },
  {
   "cell_type": "code",
   "execution_count": 5,
   "metadata": {},
   "outputs": [
    {
     "name": "stdout",
     "output_type": "stream",
     "text": [
      "CM接触者の平均アプリ利用時間: 2478.07　（標準誤差：241.78）\n",
      "CM非接触者の平均アプリ利用時間: 3107.71　（標準誤差：254.78）\n",
      "CM接触による平均効果: -629.64\n"
     ]
    }
   ],
   "source": [
    "treat = raw_df.loc[raw_df.cm_dummy==1, 'gamesecond']\n",
    "control = raw_df.loc[raw_df.cm_dummy==0, 'gamesecond']\n",
    "\n",
    "print(f'CM接触者の平均アプリ利用時間: {treat.mean():.2f}　（標準誤差：{treat.sem():.2f}）')\n",
    "print(f'CM非接触者の平均アプリ利用時間: {control.mean():.2f}　（標準誤差：{control.sem():.2f}）')\n",
    "print(f'CM接触による平均効果: {treat.mean() - control.mean():.02f}')"
   ]
  },
  {
   "cell_type": "markdown",
   "metadata": {},
   "source": [
    "最も簡単な比較方法では、CMに接触したほうがアプリの利用時間が短くなるという結果になった。\n",
    "\n",
    "しかし、これは明らかに不自然な結果に思える。\n",
    "\n",
    "そこで、次にセレクションバイアスの可能性について考えてみる。"
   ]
  },
  {
   "cell_type": "code",
   "execution_count": 8,
   "metadata": {},
   "outputs": [
    {
     "data": {
      "image/png": "[encoded data removed]",
      "text/plain": [
       "<Figure size 432x288 with 1 Axes>"
      ]
     },
     "metadata": {
      "needs_background": "light"
     },
     "output_type": "display_data"
    },
    {
     "data": {
      "image/png": "[encoded data removed]",
      "text/plain": [
       "<Figure size 432x288 with 1 Axes>"
      ]
     },
     "metadata": {
      "needs_background": "light"
     },
     "output_type": "display_data"
    },
    {
     "data": {
      "image/png": "[encoded data removed]",
      "text/plain": [
       "<Figure size 432x288 with 1 Axes>"
      ]
     },
     "metadata": {
      "needs_background": "light"
     },
     "output_type": "display_data"
    }
   ],
   "source": [
    "plot_df = raw_df.copy()\n",
    "\n",
    "plt.title('cm_dummy')\n",
    "plt.ylabel('Number of people')\n",
    "plt.xlabel('cm_dummy')\n",
    "plot_df.loc[plot_df['cm_dummy']==0, 'cm_dummy'].hist(\n",
    "    bins=[0, 1], align='left', rwidth=0.4, color='orange', label='control')\n",
    "plot_df.loc[plot_df['cm_dummy']==1, 'cm_dummy'].hist(\n",
    "    bins=[0, 1], align='mid', rwidth=0.4, color='blue', label='treat')\n",
    "plt.legend()\n",
    "plt.show()\n",
    "\n",
    "plt.title('TVwatch_day')\n",
    "plt.ylabel('Number of people')\n",
    "plt.xlabel('Time of TVwatch_day')\n",
    "plot_df.loc[plot_df['cm_dummy']==0, 'TVwatch_day'].hist(\n",
    "    bins=np.arange(0, 30000, 1000), align='left', rwidth=0.4, color='orange', label='control')\n",
    "plot_df.loc[plot_df['cm_dummy']==1, 'TVwatch_day'].hist(\n",
    "    bins=np.arange(0, 30000, 1000), align='mid', rwidth=0.4, color='blue', label='treat')\n",
    "plt.legend()\n",
    "plt.show()\n",
    "\n",
    "plt.title('age')\n",
    "plt.ylabel('Number of people')\n",
    "plt.xlabel('Age')\n",
    "plot_df.loc[plot_df['cm_dummy']==0, 'age'].hist(\n",
    "    bins=np.arange(10, 80, 10), rwidth=0.8, color='orange', label='control')\n",
    "plot_df.loc[plot_df['cm_dummy']==1, 'age'].hist(\n",
    "    bins=np.arange(10, 80, 10), rwidth=0.6, color='blue', label='treat')\n",
    "plt.legend()\n",
    "plt.show()"
   ]
  },
  {
   "cell_type": "markdown",
   "metadata": {},
   "source": [
    "上記の図から、CM非接触者（control）は、平均的にテレビの視聴時間が短い人が多いことがわかる。\n",
    "\n",
    "逆に、CM接触者（treat）は、平均的にテレビの視聴時間が長い。\n",
    "\n",
    "よって、アプリをよく利用するユーザーは平均的にテレビを見る時間が短く、CMに接触する確率が低い可能性が考えられる。\n",
    "\n",
    "性別による偏りはみられない。"
   ]
  },
  {
   "cell_type": "code",
   "execution_count": 9,
   "metadata": {},
   "outputs": [],
   "source": [
    "outcome = 'gamesecond'\n",
    "intervention = 'cm_dummy'"
   ]
  },
  {
   "cell_type": "code",
   "execution_count": 10,
   "metadata": {},
   "outputs": [
    {
     "data": {
      "text/plain": [
       "LogisticRegression(C=1.0, class_weight=None, dual=False, fit_intercept=True,\n",
       "                   intercept_scaling=1, l1_ratio=None, max_iter=200,\n",
       "                   multi_class='warn', n_jobs=None, penalty='l2',\n",
       "                   random_state=None, solver='lbfgs', tol=0.0001, verbose=0,\n",
       "                   warm_start=False)"
      ]
     },
     "execution_count": 10,
     "metadata": {},
     "output_type": "execute_result"
    }
   ],
   "source": [
    "from sklearn import preprocessing\n",
    "from sklearn.model_selection import train_test_split\n",
    "from sklearn.linear_model import LogisticRegression\n",
    "from sklearn.calibration import CalibratedClassifierCV\n",
    "\n",
    "np.random.seed(42)\n",
    "\n",
    "df = raw_df.copy()\n",
    "\n",
    "scaler = preprocessing.MinMaxScaler()\n",
    "X = df.drop(intervention, axis=1)\n",
    "scaler.fit(X)\n",
    "y = df[intervention]\n",
    "\n",
    "clf = LogisticRegression(solver='lbfgs', max_iter=200, random_state=None)\n",
    "clf.fit(scaler.transform(X), y)"
   ]
  },
  {
   "cell_type": "code",
   "execution_count": 11,
   "metadata": {},
   "outputs": [
    {
     "data": {
      "text/html": [
       "<div>\n",
       "<style scoped>\n",
       "    .dataframe tbody tr th:only-of-type {\n",
       "        vertical-align: middle;\n",
       "    }\n",
       "\n",
       "    .dataframe tbody tr th {\n",
       "        vertical-align: top;\n",
       "    }\n",
       "\n",
       "    .dataframe thead th {\n",
       "        text-align: right;\n",
       "    }\n",
       "</style>\n",
       "<table border=\"1\" class=\"dataframe\">\n",
       "  <thead>\n",
       "    <tr style=\"text-align: right;\">\n",
       "      <th></th>\n",
       "      <th>gamedummy</th>\n",
       "      <th>area_kanto</th>\n",
       "      <th>area_keihan</th>\n",
       "      <th>area_tokai</th>\n",
       "      <th>area_keihanshin</th>\n",
       "      <th>age</th>\n",
       "      <th>sex</th>\n",
       "      <th>marry_dummy</th>\n",
       "      <th>job_dummy1</th>\n",
       "      <th>job_dummy2</th>\n",
       "      <th>...</th>\n",
       "      <th>F2</th>\n",
       "      <th>F3</th>\n",
       "      <th>M1</th>\n",
       "      <th>M2</th>\n",
       "      <th>M3</th>\n",
       "      <th>TVwatch_day</th>\n",
       "      <th>gamesecond</th>\n",
       "      <th>gamecount</th>\n",
       "      <th>cm_dummy</th>\n",
       "      <th>propensity_score</th>\n",
       "    </tr>\n",
       "  </thead>\n",
       "  <tbody>\n",
       "    <tr>\n",
       "      <th>0</th>\n",
       "      <td>0</td>\n",
       "      <td>0</td>\n",
       "      <td>0</td>\n",
       "      <td>0</td>\n",
       "      <td>1</td>\n",
       "      <td>44.5</td>\n",
       "      <td>1</td>\n",
       "      <td>1</td>\n",
       "      <td>1</td>\n",
       "      <td>0</td>\n",
       "      <td>...</td>\n",
       "      <td>0</td>\n",
       "      <td>0</td>\n",
       "      <td>0</td>\n",
       "      <td>1</td>\n",
       "      <td>0</td>\n",
       "      <td>33.427600</td>\n",
       "      <td>0</td>\n",
       "      <td>0</td>\n",
       "      <td>0</td>\n",
       "      <td>0.043157</td>\n",
       "    </tr>\n",
       "    <tr>\n",
       "      <th>1</th>\n",
       "      <td>0</td>\n",
       "      <td>0</td>\n",
       "      <td>1</td>\n",
       "      <td>0</td>\n",
       "      <td>0</td>\n",
       "      <td>34.5</td>\n",
       "      <td>1</td>\n",
       "      <td>1</td>\n",
       "      <td>1</td>\n",
       "      <td>0</td>\n",
       "      <td>...</td>\n",
       "      <td>0</td>\n",
       "      <td>0</td>\n",
       "      <td>0</td>\n",
       "      <td>1</td>\n",
       "      <td>0</td>\n",
       "      <td>31.542862</td>\n",
       "      <td>0</td>\n",
       "      <td>0</td>\n",
       "      <td>0</td>\n",
       "      <td>0.273760</td>\n",
       "    </tr>\n",
       "    <tr>\n",
       "      <th>2</th>\n",
       "      <td>0</td>\n",
       "      <td>0</td>\n",
       "      <td>1</td>\n",
       "      <td>0</td>\n",
       "      <td>0</td>\n",
       "      <td>24.5</td>\n",
       "      <td>1</td>\n",
       "      <td>0</td>\n",
       "      <td>0</td>\n",
       "      <td>0</td>\n",
       "      <td>...</td>\n",
       "      <td>0</td>\n",
       "      <td>0</td>\n",
       "      <td>1</td>\n",
       "      <td>0</td>\n",
       "      <td>0</td>\n",
       "      <td>37.825805</td>\n",
       "      <td>0</td>\n",
       "      <td>0</td>\n",
       "      <td>0</td>\n",
       "      <td>0.193646</td>\n",
       "    </tr>\n",
       "    <tr>\n",
       "      <th>3</th>\n",
       "      <td>0</td>\n",
       "      <td>0</td>\n",
       "      <td>1</td>\n",
       "      <td>0</td>\n",
       "      <td>0</td>\n",
       "      <td>44.5</td>\n",
       "      <td>1</td>\n",
       "      <td>1</td>\n",
       "      <td>1</td>\n",
       "      <td>0</td>\n",
       "      <td>...</td>\n",
       "      <td>0</td>\n",
       "      <td>0</td>\n",
       "      <td>0</td>\n",
       "      <td>1</td>\n",
       "      <td>0</td>\n",
       "      <td>36.345911</td>\n",
       "      <td>0</td>\n",
       "      <td>0</td>\n",
       "      <td>0</td>\n",
       "      <td>0.215923</td>\n",
       "    </tr>\n",
       "    <tr>\n",
       "      <th>4</th>\n",
       "      <td>0</td>\n",
       "      <td>0</td>\n",
       "      <td>1</td>\n",
       "      <td>0</td>\n",
       "      <td>0</td>\n",
       "      <td>34.5</td>\n",
       "      <td>1</td>\n",
       "      <td>1</td>\n",
       "      <td>1</td>\n",
       "      <td>0</td>\n",
       "      <td>...</td>\n",
       "      <td>0</td>\n",
       "      <td>0</td>\n",
       "      <td>1</td>\n",
       "      <td>0</td>\n",
       "      <td>0</td>\n",
       "      <td>49.344942</td>\n",
       "      <td>0</td>\n",
       "      <td>0</td>\n",
       "      <td>0</td>\n",
       "      <td>0.218169</td>\n",
       "    </tr>\n",
       "  </tbody>\n",
       "</table>\n",
       "<p>5 rows × 36 columns</p>\n",
       "</div>"
      ],
      "text/plain": [
       "   gamedummy  area_kanto  area_keihan  area_tokai  area_keihanshin   age  sex  \\\n",
       "0          0           0            0           0                1  44.5    1   \n",
       "1          0           0            1           0                0  34.5    1   \n",
       "2          0           0            1           0                0  24.5    1   \n",
       "3          0           0            1           0                0  44.5    1   \n",
       "4          0           0            1           0                0  34.5    1   \n",
       "\n",
       "   marry_dummy  job_dummy1  job_dummy2  ...  F2  F3  M1  M2  M3  TVwatch_day  \\\n",
       "0            1           1           0  ...   0   0   0   1   0    33.427600   \n",
       "1            1           1           0  ...   0   0   0   1   0    31.542862   \n",
       "2            0           0           0  ...   0   0   1   0   0    37.825805   \n",
       "3            1           1           0  ...   0   0   0   1   0    36.345911   \n",
       "4            1           1           0  ...   0   0   1   0   0    49.344942   \n",
       "\n",
       "   gamesecond  gamecount  cm_dummy  propensity_score  \n",
       "0           0          0         0          0.043157  \n",
       "1           0          0         0          0.273760  \n",
       "2           0          0         0          0.193646  \n",
       "3           0          0         0          0.215923  \n",
       "4           0          0         0          0.218169  \n",
       "\n",
       "[5 rows x 36 columns]"
      ]
     },
     "execution_count": 11,
     "metadata": {},
     "output_type": "execute_result"
    }
   ],
   "source": [
    "inferenced_df = pd.DataFrame(X, columns=df.drop(intervention, axis=1).columns)\n",
    "inferenced_df[intervention] = y\n",
    "inferenced_df['propensity_score'] = clf.predict_proba(scaler.transform(X))[:, 1]\n",
    "inferenced_df.head()"
   ]
  },
  {
   "cell_type": "code",
   "execution_count": 12,
   "metadata": {},
   "outputs": [
    {
     "data": {
      "image/png": "[encoded data removed]",
      "text/plain": [
       "<Figure size 432x288 with 1 Axes>"
      ]
     },
     "metadata": {
      "needs_background": "light"
     },
     "output_type": "display_data"
    }
   ],
   "source": [
    "plt.title('Propensity Score')\n",
    "plt.ylabel('Number of people')\n",
    "plt.xlabel('Propensity Score')\n",
    "plt.xlim(-0.05, 1.0)\n",
    "inferenced_df.loc[inferenced_df['cm_dummy']==0, 'propensity_score'].hist(\n",
    "    bins=np.arange(0, 1, 0.05), align='left', rwidth=0.4, color='orange', label='control')\n",
    "inferenced_df.loc[inferenced_df['cm_dummy']==1, 'propensity_score'].hist(\n",
    "    bins=np.arange(0, 1, 0.05), align='mid', rwidth=0.4, color='blue', label='treat')\n",
    "plt.legend()\n",
    "plt.show()"
   ]
  },
  {
   "cell_type": "markdown",
   "metadata": {},
   "source": [
    "上記で求められた傾向スコアを元にマッチング処理を行う。\n",
    "\n",
    "傾向スコアが近いサンプルを treat/control 間で１対１でサンプリングすることで、各集団の偏り（セレクションバイアス）をなくす。"
   ]
  },
  {
   "cell_type": "code",
   "execution_count": 13,
   "metadata": {},
   "outputs": [],
   "source": [
    "# dowhyもsklarnのクラスを採用している。\n",
    "# https://github.com/microsoft/dowhy/blob/master/dowhy/causal_estimators/propensity_score_matching_estimator.py#L38\n",
    "from sklearn.neighbors import NearestNeighbors\n",
    "\n",
    "treat_inferenced_df = inferenced_df[inferenced_df.cm_dummy==1]\n",
    "control_inferenced_df = inferenced_df[inferenced_df.cm_dummy==0]\n",
    "\n",
    "neigh = NearestNeighbors(n_neighbors=1, metric='manhattan')\n",
    "neigh.fit(treat_inferenced_df['propensity_score'].values.reshape(-1, 1))\n",
    "\n",
    "distances, indices = neigh.kneighbors(control_inferenced_df['propensity_score'].values.reshape(-1, 1))"
   ]
  },
  {
   "cell_type": "code",
   "execution_count": 14,
   "metadata": {},
   "outputs": [
    {
     "name": "stdout",
     "output_type": "stream",
     "text": [
      "(4144, 36)\n",
      "(5856, 36)\n"
     ]
    },
    {
     "data": {
      "text/html": [
       "<div>\n",
       "<style scoped>\n",
       "    .dataframe tbody tr th:only-of-type {\n",
       "        vertical-align: middle;\n",
       "    }\n",
       "\n",
       "    .dataframe tbody tr th {\n",
       "        vertical-align: top;\n",
       "    }\n",
       "\n",
       "    .dataframe thead th {\n",
       "        text-align: right;\n",
       "    }\n",
       "</style>\n",
       "<table border=\"1\" class=\"dataframe\">\n",
       "  <thead>\n",
       "    <tr style=\"text-align: right;\">\n",
       "      <th></th>\n",
       "      <th>gamedummy</th>\n",
       "      <th>area_kanto</th>\n",
       "      <th>area_keihan</th>\n",
       "      <th>area_tokai</th>\n",
       "      <th>area_keihanshin</th>\n",
       "      <th>age</th>\n",
       "      <th>sex</th>\n",
       "      <th>marry_dummy</th>\n",
       "      <th>job_dummy1</th>\n",
       "      <th>job_dummy2</th>\n",
       "      <th>...</th>\n",
       "      <th>F2</th>\n",
       "      <th>F3</th>\n",
       "      <th>M1</th>\n",
       "      <th>M2</th>\n",
       "      <th>M3</th>\n",
       "      <th>TVwatch_day</th>\n",
       "      <th>gamesecond</th>\n",
       "      <th>gamecount</th>\n",
       "      <th>cm_dummy</th>\n",
       "      <th>propensity_score</th>\n",
       "    </tr>\n",
       "  </thead>\n",
       "  <tbody>\n",
       "    <tr>\n",
       "      <th>0</th>\n",
       "      <td>0</td>\n",
       "      <td>0</td>\n",
       "      <td>0</td>\n",
       "      <td>0</td>\n",
       "      <td>1</td>\n",
       "      <td>24.5</td>\n",
       "      <td>1</td>\n",
       "      <td>0</td>\n",
       "      <td>0</td>\n",
       "      <td>0</td>\n",
       "      <td>...</td>\n",
       "      <td>0</td>\n",
       "      <td>0</td>\n",
       "      <td>1</td>\n",
       "      <td>0</td>\n",
       "      <td>0</td>\n",
       "      <td>2108.480025</td>\n",
       "      <td>0</td>\n",
       "      <td>0</td>\n",
       "      <td>1</td>\n",
       "      <td>0.066607</td>\n",
       "    </tr>\n",
       "    <tr>\n",
       "      <th>1</th>\n",
       "      <td>0</td>\n",
       "      <td>0</td>\n",
       "      <td>1</td>\n",
       "      <td>0</td>\n",
       "      <td>0</td>\n",
       "      <td>44.5</td>\n",
       "      <td>1</td>\n",
       "      <td>0</td>\n",
       "      <td>1</td>\n",
       "      <td>0</td>\n",
       "      <td>...</td>\n",
       "      <td>0</td>\n",
       "      <td>0</td>\n",
       "      <td>0</td>\n",
       "      <td>1</td>\n",
       "      <td>0</td>\n",
       "      <td>2213.402029</td>\n",
       "      <td>0</td>\n",
       "      <td>0</td>\n",
       "      <td>1</td>\n",
       "      <td>0.273811</td>\n",
       "    </tr>\n",
       "    <tr>\n",
       "      <th>2</th>\n",
       "      <td>0</td>\n",
       "      <td>0</td>\n",
       "      <td>0</td>\n",
       "      <td>1</td>\n",
       "      <td>0</td>\n",
       "      <td>34.5</td>\n",
       "      <td>1</td>\n",
       "      <td>1</td>\n",
       "      <td>1</td>\n",
       "      <td>0</td>\n",
       "      <td>...</td>\n",
       "      <td>0</td>\n",
       "      <td>0</td>\n",
       "      <td>1</td>\n",
       "      <td>0</td>\n",
       "      <td>0</td>\n",
       "      <td>3896.854388</td>\n",
       "      <td>0</td>\n",
       "      <td>0</td>\n",
       "      <td>1</td>\n",
       "      <td>0.193439</td>\n",
       "    </tr>\n",
       "    <tr>\n",
       "      <th>3</th>\n",
       "      <td>0</td>\n",
       "      <td>0</td>\n",
       "      <td>0</td>\n",
       "      <td>1</td>\n",
       "      <td>0</td>\n",
       "      <td>54.5</td>\n",
       "      <td>1</td>\n",
       "      <td>1</td>\n",
       "      <td>1</td>\n",
       "      <td>0</td>\n",
       "      <td>...</td>\n",
       "      <td>0</td>\n",
       "      <td>0</td>\n",
       "      <td>0</td>\n",
       "      <td>0</td>\n",
       "      <td>1</td>\n",
       "      <td>6736.038120</td>\n",
       "      <td>0</td>\n",
       "      <td>0</td>\n",
       "      <td>1</td>\n",
       "      <td>0.214665</td>\n",
       "    </tr>\n",
       "    <tr>\n",
       "      <th>4</th>\n",
       "      <td>0</td>\n",
       "      <td>0</td>\n",
       "      <td>0</td>\n",
       "      <td>1</td>\n",
       "      <td>0</td>\n",
       "      <td>54.5</td>\n",
       "      <td>1</td>\n",
       "      <td>1</td>\n",
       "      <td>1</td>\n",
       "      <td>0</td>\n",
       "      <td>...</td>\n",
       "      <td>0</td>\n",
       "      <td>0</td>\n",
       "      <td>0</td>\n",
       "      <td>0</td>\n",
       "      <td>1</td>\n",
       "      <td>6736.038120</td>\n",
       "      <td>0</td>\n",
       "      <td>0</td>\n",
       "      <td>1</td>\n",
       "      <td>0.214665</td>\n",
       "    </tr>\n",
       "  </tbody>\n",
       "</table>\n",
       "<p>5 rows × 36 columns</p>\n",
       "</div>"
      ],
      "text/plain": [
       "   gamedummy  area_kanto  area_keihan  area_tokai  area_keihanshin   age  sex  \\\n",
       "0          0           0            0           0                1  24.5    1   \n",
       "1          0           0            1           0                0  44.5    1   \n",
       "2          0           0            0           1                0  34.5    1   \n",
       "3          0           0            0           1                0  54.5    1   \n",
       "4          0           0            0           1                0  54.5    1   \n",
       "\n",
       "   marry_dummy  job_dummy1  job_dummy2  ...  F2  F3  M1  M2  M3  TVwatch_day  \\\n",
       "0            0           0           0  ...   0   0   1   0   0  2108.480025   \n",
       "1            0           1           0  ...   0   0   0   1   0  2213.402029   \n",
       "2            1           1           0  ...   0   0   1   0   0  3896.854388   \n",
       "3            1           1           0  ...   0   0   0   0   1  6736.038120   \n",
       "4            1           1           0  ...   0   0   0   0   1  6736.038120   \n",
       "\n",
       "   gamesecond  gamecount  cm_dummy  propensity_score  \n",
       "0           0          0         1          0.066607  \n",
       "1           0          0         1          0.273811  \n",
       "2           0          0         1          0.193439  \n",
       "3           0          0         1          0.214665  \n",
       "4           0          0         1          0.214665  \n",
       "\n",
       "[5 rows x 36 columns]"
      ]
     },
     "execution_count": 14,
     "metadata": {},
     "output_type": "execute_result"
    }
   ],
   "source": [
    "print(treat_inferenced_df.shape)\n",
    "print(control_inferenced_df.shape)\n",
    "\n",
    "transformed_df = pd.concat([treat_inferenced_df.iloc[indices.flatten()], control_inferenced_df], axis=0).reset_index(drop=True)\n",
    "transformed_df.head()"
   ]
  },
  {
   "cell_type": "code",
   "execution_count": 15,
   "metadata": {},
   "outputs": [
    {
     "data": {
      "image/png": "[encoded data removed]",
      "text/plain": [
       "<Figure size 432x288 with 1 Axes>"
      ]
     },
     "metadata": {
      "needs_background": "light"
     },
     "output_type": "display_data"
    }
   ],
   "source": [
    "plt.title('Matched Propensity Score of transformed_df')\n",
    "plt.ylabel('Number of people')\n",
    "plt.xlabel('Propensity Score')\n",
    "plt.xlim(-0.05, 1.0)\n",
    "transformed_df.loc[transformed_df['cm_dummy']==0, 'propensity_score'].hist(\n",
    "    bins=np.arange(0, 1, 0.05), align='left', rwidth=0.4, color='orange', label='control')\n",
    "transformed_df.loc[transformed_df['cm_dummy']==1, 'propensity_score'].hist(\n",
    "    bins=np.arange(0, 1, 0.05), align='mid', rwidth=0.4, color='blue', label='treat')\n",
    "plt.legend()\n",
    "plt.show()"
   ]
  },
  {
   "cell_type": "code",
   "execution_count": 16,
   "metadata": {},
   "outputs": [
    {
     "data": {
      "image/png": "[encoded data removed]",
      "text/plain": [
       "<Figure size 432x288 with 1 Axes>"
      ]
     },
     "metadata": {
      "needs_background": "light"
     },
     "output_type": "display_data"
    },
    {
     "data": {
      "image/png": "[encoded data removed]",
      "text/plain": [
       "<Figure size 432x288 with 1 Axes>"
      ]
     },
     "metadata": {
      "needs_background": "light"
     },
     "output_type": "display_data"
    },
    {
     "data": {
      "image/png": "[encoded data removed]",
      "text/plain": [
       "<Figure size 432x288 with 1 Axes>"
      ]
     },
     "metadata": {
      "needs_background": "light"
     },
     "output_type": "display_data"
    }
   ],
   "source": [
    "plot_df = transformed_df\n",
    "\n",
    "plt.title(f'{intervention}')\n",
    "plt.ylabel('Number of people')\n",
    "plt.xlabel(f'{intervention}')\n",
    "plot_df.loc[plot_df['cm_dummy']==0, intervention].hist(\n",
    "    bins=[0, 1], align='left', rwidth=0.4, color='orange', label='control')\n",
    "plot_df.loc[plot_df['cm_dummy']==1, intervention].hist(\n",
    "    bins=[0, 1], align='mid', rwidth=0.4, color='blue', label='treat')\n",
    "plt.legend()\n",
    "plt.show()\n",
    "\n",
    "plt.title('TVwatch_day')\n",
    "plt.ylabel('Number of people')\n",
    "plt.xlabel('Time of TVwatch_day')\n",
    "plot_df.loc[plot_df['cm_dummy']==0, 'TVwatch_day'].hist(\n",
    "    bins=np.arange(0, 30000, 1000), align='left', rwidth=0.4, color='orange', label='control')\n",
    "plot_df.loc[plot_df['cm_dummy']==1, 'TVwatch_day'].hist(\n",
    "    bins=np.arange(0, 30000, 1000), align='mid', rwidth=0.4, color='blue', label='treat')\n",
    "plt.legend()\n",
    "plt.show()\n",
    "\n",
    "plt.title('age')\n",
    "plt.ylabel('Number of people')\n",
    "plt.xlabel('Age')\n",
    "plot_df.loc[plot_df['cm_dummy']==0, 'age'].hist(\n",
    "    bins=np.arange(10, 80, 10), rwidth=0.8, color='orange', label='control')\n",
    "plot_df.loc[plot_df['cm_dummy']==1, 'age'].hist(\n",
    "    bins=np.arange(10, 80, 10), rwidth=0.6, color='blue', label='treat')\n",
    "plt.legend()\n",
    "plt.show()"
   ]
  },
  {
   "cell_type": "code",
   "execution_count": 17,
   "metadata": {},
   "outputs": [
    {
     "name": "stdout",
     "output_type": "stream",
     "text": [
      "CM接触者の平均アプリ利用時間: 4050.82 秒　（標準誤差：263.47）\n",
      "CM非接触者の平均アプリ利用時間: 3107.71 秒　（標準誤差：254.78）\n",
      "CM接触による平均効果: 943.11 秒\n"
     ]
    }
   ],
   "source": [
    "treat = transformed_df.loc[transformed_df.cm_dummy==1, 'gamesecond']\n",
    "control = transformed_df.loc[transformed_df.cm_dummy==0, 'gamesecond']\n",
    "\n",
    "print(f'CM接触者の平均アプリ利用時間: {treat.mean():.2f} 秒　（標準誤差：{treat.sem():.2f}）')\n",
    "print(f'CM非接触者の平均アプリ利用時間: {control.mean():.2f} 秒　（標準誤差：{control.sem():.2f}）')\n",
    "print(f'CM接触による平均効果: {treat.mean() - control.mean():.02f} 秒')"
   ]
  },
  {
   "cell_type": "markdown",
   "metadata": {},
   "source": [
    "train test split を行うと ATE が大きくブレることが観測された。\n",
    "\n",
    "しかし、傾向スコアを求めることが共変量の１次元化に相当するならtrain test splitをする必要がないのではないかと考えた。\n",
    "\n",
    "そのため、ここまでは上記のような方針で実装を行った。\n",
    "\n",
    "\n",
    "とはいえ、学習に使ったデータをまた予測にかけることはなんとなく嫌な感じがする。\n",
    "\n",
    "なので次に、CVをすることによって、学習データを予測にかけることなく、全データに傾向スコアを割り当ててみる。"
   ]
  },
  {
   "cell_type": "markdown",
   "metadata": {},
   "source": [
    "### Cross Validationを使って傾向スコアを割り当ててみる。"
   ]
  },
  {
   "cell_type": "code",
   "execution_count": 18,
   "metadata": {},
   "outputs": [],
   "source": [
    "from sklearn.model_selection import StratifiedKFold"
   ]
  },
  {
   "cell_type": "code",
   "execution_count": 19,
   "metadata": {},
   "outputs": [],
   "source": [
    "# np.random.seed(7)\n",
    "\n",
    "outcome = 'gamesecond'\n",
    "intervention = 'cm_dummy'\n",
    "\n",
    "df = raw_df.copy()\n",
    "p_score = np.zeros(df.shape[0])\n",
    "\n",
    "X = df.drop(intervention, axis=1)\n",
    "y = df[intervention]\n",
    "\n",
    "scaler = preprocessing.MinMaxScaler()\n",
    "scaler.fit(X)\n",
    "\n",
    "n_fold = 5\n",
    "skf = StratifiedKFold(n_splits=n_fold, shuffle=True, random_state=None)\n",
    "for train_index, test_index in skf.split(X, y):\n",
    "    X_train, X_test = X.iloc[train_index], X.iloc[test_index]\n",
    "    y_train, y_test = y.iloc[train_index], y.iloc[test_index]\n",
    "    \n",
    "    clf = LogisticRegression(solver='lbfgs', max_iter=200, random_state=None)\n",
    "    clf.fit(scaler.transform(X_train), y_train)\n",
    "    \n",
    "    p_score[test_index] = clf.predict_proba(scaler.transform(X_test))[:, 1]\n",
    "\n",
    "df['propensity_score'] = p_score"
   ]
  },
  {
   "cell_type": "code",
   "execution_count": 20,
   "metadata": {},
   "outputs": [
    {
     "data": {
      "image/png": "[encoded data removed]",
      "text/plain": [
       "<Figure size 432x288 with 1 Axes>"
      ]
     },
     "metadata": {
      "needs_background": "light"
     },
     "output_type": "display_data"
    }
   ],
   "source": [
    "plt.title('Propensity Score')\n",
    "plt.ylabel('Number of people')\n",
    "plt.xlabel('Propensity Score')\n",
    "plt.xlim(-0.05, 1.0)\n",
    "df.loc[df['cm_dummy']==0, 'propensity_score'].hist(\n",
    "    bins=np.arange(0, 1, 0.05), align='left', rwidth=0.4, color='orange', label='control')\n",
    "df.loc[df['cm_dummy']==1, 'propensity_score'].hist(\n",
    "    bins=np.arange(0, 1, 0.05), align='mid', rwidth=0.4, color='blue', label='treat')\n",
    "plt.legend()\n",
    "plt.show()"
   ]
  },
  {
   "cell_type": "code",
   "execution_count": 21,
   "metadata": {},
   "outputs": [],
   "source": [
    "from sklearn.neighbors import NearestNeighbors\n",
    "\n",
    "treat_inferenced_df = df[df.cm_dummy==1]\n",
    "control_inferenced_df = df[df.cm_dummy==0]\n",
    "\n",
    "neigh = NearestNeighbors(n_neighbors=1, metric='manhattan')\n",
    "neigh.fit(treat_inferenced_df['propensity_score'].values.reshape(-1, 1))\n",
    "\n",
    "distances, indices = neigh.kneighbors(control_inferenced_df['propensity_score'].values.reshape(-1, 1))\n",
    "\n",
    "transformed_df = pd.concat([treat_inferenced_df.iloc[indices.flatten()], control_inferenced_df], axis=0).reset_index(drop=True)"
   ]
  },
  {
   "cell_type": "code",
   "execution_count": 22,
   "metadata": {},
   "outputs": [
    {
     "name": "stdout",
     "output_type": "stream",
     "text": [
      "(4144, 36)\n",
      "(5856, 36)\n"
     ]
    },
    {
     "data": {
      "text/html": [
       "<div>\n",
       "<style scoped>\n",
       "    .dataframe tbody tr th:only-of-type {\n",
       "        vertical-align: middle;\n",
       "    }\n",
       "\n",
       "    .dataframe tbody tr th {\n",
       "        vertical-align: top;\n",
       "    }\n",
       "\n",
       "    .dataframe thead th {\n",
       "        text-align: right;\n",
       "    }\n",
       "</style>\n",
       "<table border=\"1\" class=\"dataframe\">\n",
       "  <thead>\n",
       "    <tr style=\"text-align: right;\">\n",
       "      <th></th>\n",
       "      <th>cm_dummy</th>\n",
       "      <th>gamedummy</th>\n",
       "      <th>area_kanto</th>\n",
       "      <th>area_keihan</th>\n",
       "      <th>area_tokai</th>\n",
       "      <th>area_keihanshin</th>\n",
       "      <th>age</th>\n",
       "      <th>sex</th>\n",
       "      <th>marry_dummy</th>\n",
       "      <th>job_dummy1</th>\n",
       "      <th>...</th>\n",
       "      <th>F1</th>\n",
       "      <th>F2</th>\n",
       "      <th>F3</th>\n",
       "      <th>M1</th>\n",
       "      <th>M2</th>\n",
       "      <th>M3</th>\n",
       "      <th>TVwatch_day</th>\n",
       "      <th>gamesecond</th>\n",
       "      <th>gamecount</th>\n",
       "      <th>propensity_score</th>\n",
       "    </tr>\n",
       "  </thead>\n",
       "  <tbody>\n",
       "    <tr>\n",
       "      <th>0</th>\n",
       "      <td>1</td>\n",
       "      <td>1</td>\n",
       "      <td>0</td>\n",
       "      <td>0</td>\n",
       "      <td>0</td>\n",
       "      <td>1</td>\n",
       "      <td>34.5</td>\n",
       "      <td>1</td>\n",
       "      <td>0</td>\n",
       "      <td>1</td>\n",
       "      <td>...</td>\n",
       "      <td>0</td>\n",
       "      <td>0</td>\n",
       "      <td>0</td>\n",
       "      <td>0</td>\n",
       "      <td>1</td>\n",
       "      <td>0</td>\n",
       "      <td>6879.779616</td>\n",
       "      <td>125882</td>\n",
       "      <td>345</td>\n",
       "      <td>0.053028</td>\n",
       "    </tr>\n",
       "    <tr>\n",
       "      <th>1</th>\n",
       "      <td>1</td>\n",
       "      <td>0</td>\n",
       "      <td>0</td>\n",
       "      <td>1</td>\n",
       "      <td>0</td>\n",
       "      <td>0</td>\n",
       "      <td>44.5</td>\n",
       "      <td>1</td>\n",
       "      <td>1</td>\n",
       "      <td>1</td>\n",
       "      <td>...</td>\n",
       "      <td>0</td>\n",
       "      <td>0</td>\n",
       "      <td>0</td>\n",
       "      <td>0</td>\n",
       "      <td>1</td>\n",
       "      <td>0</td>\n",
       "      <td>5559.971792</td>\n",
       "      <td>0</td>\n",
       "      <td>0</td>\n",
       "      <td>0.288168</td>\n",
       "    </tr>\n",
       "    <tr>\n",
       "      <th>2</th>\n",
       "      <td>1</td>\n",
       "      <td>0</td>\n",
       "      <td>0</td>\n",
       "      <td>0</td>\n",
       "      <td>1</td>\n",
       "      <td>0</td>\n",
       "      <td>19.0</td>\n",
       "      <td>1</td>\n",
       "      <td>0</td>\n",
       "      <td>0</td>\n",
       "      <td>...</td>\n",
       "      <td>0</td>\n",
       "      <td>0</td>\n",
       "      <td>0</td>\n",
       "      <td>0</td>\n",
       "      <td>0</td>\n",
       "      <td>0</td>\n",
       "      <td>4414.874833</td>\n",
       "      <td>0</td>\n",
       "      <td>0</td>\n",
       "      <td>0.197478</td>\n",
       "    </tr>\n",
       "    <tr>\n",
       "      <th>3</th>\n",
       "      <td>1</td>\n",
       "      <td>0</td>\n",
       "      <td>0</td>\n",
       "      <td>1</td>\n",
       "      <td>0</td>\n",
       "      <td>0</td>\n",
       "      <td>44.5</td>\n",
       "      <td>1</td>\n",
       "      <td>1</td>\n",
       "      <td>1</td>\n",
       "      <td>...</td>\n",
       "      <td>0</td>\n",
       "      <td>0</td>\n",
       "      <td>0</td>\n",
       "      <td>0</td>\n",
       "      <td>1</td>\n",
       "      <td>0</td>\n",
       "      <td>832.278361</td>\n",
       "      <td>0</td>\n",
       "      <td>0</td>\n",
       "      <td>0.207064</td>\n",
       "    </tr>\n",
       "    <tr>\n",
       "      <th>4</th>\n",
       "      <td>1</td>\n",
       "      <td>0</td>\n",
       "      <td>0</td>\n",
       "      <td>0</td>\n",
       "      <td>1</td>\n",
       "      <td>0</td>\n",
       "      <td>54.5</td>\n",
       "      <td>1</td>\n",
       "      <td>1</td>\n",
       "      <td>1</td>\n",
       "      <td>...</td>\n",
       "      <td>0</td>\n",
       "      <td>0</td>\n",
       "      <td>0</td>\n",
       "      <td>0</td>\n",
       "      <td>0</td>\n",
       "      <td>1</td>\n",
       "      <td>6733.626411</td>\n",
       "      <td>0</td>\n",
       "      <td>0</td>\n",
       "      <td>0.204217</td>\n",
       "    </tr>\n",
       "  </tbody>\n",
       "</table>\n",
       "<p>5 rows × 36 columns</p>\n",
       "</div>"
      ],
      "text/plain": [
       "   cm_dummy  gamedummy  area_kanto  area_keihan  area_tokai  area_keihanshin  \\\n",
       "0         1          1           0            0           0                1   \n",
       "1         1          0           0            1           0                0   \n",
       "2         1          0           0            0           1                0   \n",
       "3         1          0           0            1           0                0   \n",
       "4         1          0           0            0           1                0   \n",
       "\n",
       "    age  sex  marry_dummy  job_dummy1  ...  F1  F2  F3  M1  M2  M3  \\\n",
       "0  34.5    1            0           1  ...   0   0   0   0   1   0   \n",
       "1  44.5    1            1           1  ...   0   0   0   0   1   0   \n",
       "2  19.0    1            0           0  ...   0   0   0   0   0   0   \n",
       "3  44.5    1            1           1  ...   0   0   0   0   1   0   \n",
       "4  54.5    1            1           1  ...   0   0   0   0   0   1   \n",
       "\n",
       "   TVwatch_day  gamesecond  gamecount  propensity_score  \n",
       "0  6879.779616      125882        345          0.053028  \n",
       "1  5559.971792           0          0          0.288168  \n",
       "2  4414.874833           0          0          0.197478  \n",
       "3   832.278361           0          0          0.207064  \n",
       "4  6733.626411           0          0          0.204217  \n",
       "\n",
       "[5 rows x 36 columns]"
      ]
     },
     "execution_count": 22,
     "metadata": {},
     "output_type": "execute_result"
    }
   ],
   "source": [
    "print(treat_inferenced_df.shape)\n",
    "print(control_inferenced_df.shape)\n",
    "\n",
    "transformed_df.head()"
   ]
  },
  {
   "cell_type": "code",
   "execution_count": 23,
   "metadata": {},
   "outputs": [
    {
     "data": {
      "image/png": "[encoded data removed]",
      "text/plain": [
       "<Figure size 432x288 with 1 Axes>"
      ]
     },
     "metadata": {
      "needs_background": "light"
     },
     "output_type": "display_data"
    }
   ],
   "source": [
    "plt.title('Matched Propensity Score of transformed_df')\n",
    "plt.ylabel('Number of people')\n",
    "plt.xlabel('Propensity Score')\n",
    "plt.xlim(-0.05, 1.0)\n",
    "transformed_df.loc[transformed_df['cm_dummy']==0, 'propensity_score'].hist(\n",
    "    bins=np.arange(0, 1, 0.05), align='left', rwidth=0.4, color='orange', label='control')\n",
    "transformed_df.loc[transformed_df['cm_dummy']==1, 'propensity_score'].hist(\n",
    "    bins=np.arange(0, 1, 0.05), align='mid', rwidth=0.4, color='blue', label='treat')\n",
    "plt.legend()\n",
    "plt.show()"
   ]
  },
  {
   "cell_type": "code",
   "execution_count": 24,
   "metadata": {},
   "outputs": [
    {
     "name": "stdout",
     "output_type": "stream",
     "text": [
      "CM接触者の平均アプリ利用時間: 12275.07 秒　（標準誤差：473.61）\n",
      "CM非接触者の平均アプリ利用時間: 3107.71 秒　（標準誤差：254.78）\n",
      "CM接触による平均効果: 9167.36 秒\n"
     ]
    }
   ],
   "source": [
    "treat = transformed_df.loc[transformed_df.cm_dummy==1, 'gamesecond']\n",
    "control = transformed_df.loc[transformed_df.cm_dummy==0, 'gamesecond']\n",
    "\n",
    "print(f'CM接触者の平均アプリ利用時間: {treat.mean():.2f} 秒　（標準誤差：{treat.sem():.2f}）')\n",
    "print(f'CM非接触者の平均アプリ利用時間: {control.mean():.2f} 秒　（標準誤差：{control.sem():.2f}）')\n",
    "print(f'CM接触による平均効果: {treat.mean() - control.mean():.02f} 秒')"
   ]
  },
  {
   "cell_type": "code",
   "execution_count": null,
   "metadata": {},
   "outputs": [],
   "source": []
  }
 ],
 "metadata": {
  "kernelspec": {
   "display_name": "Python 3",
   "language": "python",
   "name": "python3"
  },
  "language_info": {
   "codemirror_mode": {
    "name": "ipython",
    "version": 3
   },
   "file_extension": ".py",
   "mimetype": "text/x-python",
   "name": "python",
   "nbconvert_exporter": "python",
   "pygments_lexer": "ipython3",
   "version": "3.7.5"
  }
 },
 "nbformat": 4,
 "nbformat_minor": 4
}
