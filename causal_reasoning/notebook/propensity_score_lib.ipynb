{
 "cells": [
  {
   "cell_type": "markdown",
   "metadata": {},
   "source": [
    "# 傾向スコアマッチング\n",
    "\n",
    "## 問題設定\n",
    "- 「テレビCMの接触有無」と「スマートフォンでのアプリ利用」の因果効果を推定する。\n",
    "    - 予算や資源制約が存在する状況で、最も効率の高い施策を実施する状況が想定される問題設定。\n",
    "\n",
    "### その他、効果検証に関するメモ\n",
    "- CMの費用対効果を考えるのであれば、ATEよりも「CM接触によるアプリ使用時間の伸び」であるATTの方が有効\n",
    "\n",
    "\n",
    "## 用語\n",
    "- ATE：平均処置効果\n",
    "    - 対象母集団のすべての人に介入した場合の平均因果効果\n",
    "    - 「（すべての人に介入を行った場合）ー（すべての人に介入を行わなかった場合）」\n",
    "- ATT：処置群における平均処置効果\n",
    "    - 対象母集団の介入群に対しての平均因果効果\n",
    "    - 「（介入群の平均処置効果）ー（介入群に処置しなかった場合の平均処置効果）」"
   ]
  },
  {
   "cell_type": "markdown",
   "metadata": {},
   "source": [
    "## ライブラリをインポート"
   ]
  },
  {
   "cell_type": "code",
   "execution_count": 1,
   "metadata": {},
   "outputs": [],
   "source": [
    "import os\n",
    "import sys\n",
    "sys.path.append(os.path.abspath(\"..\"))\n",
    "import urllib.request\n",
    "\n",
    "import numpy as np\n",
    "import pandas as pd\n",
    "\n",
    "import seaborn as sns\n",
    "import matplotlib.pyplot as plt\n",
    "%matplotlib inline"
   ]
  },
  {
   "cell_type": "markdown",
   "metadata": {},
   "source": [
    "## サンプルデータの取得"
   ]
  },
  {
   "cell_type": "code",
   "execution_count": 2,
   "metadata": {},
   "outputs": [],
   "source": [
    "def download_file(url, filepath):\n",
    "    urllib.request.urlretrieve(url, filepath)"
   ]
  },
  {
   "cell_type": "code",
   "execution_count": 3,
   "metadata": {},
   "outputs": [],
   "source": [
    "url = \"https://raw.githubusercontent.com/iwanami-datascience/vol3/master/kato%26hoshino/q_data_x.csv\"\n",
    "filepath = \"../data/sample.csv\"\n",
    "\n",
    "if not os.path.exists(filepath):\n",
    "    download_file(url, filepath)\n",
    "\n",
    "raw_df = pd.read_csv(filepath)"
   ]
  },
  {
   "cell_type": "code",
   "execution_count": 4,
   "metadata": {},
   "outputs": [
    {
     "name": "stdout",
     "output_type": "stream",
     "text": [
      "データサイズ: 10,000\n"
     ]
    },
    {
     "data": {
      "text/html": [
       "<div>\n",
       "<style scoped>\n",
       "    .dataframe tbody tr th:only-of-type {\n",
       "        vertical-align: middle;\n",
       "    }\n",
       "\n",
       "    .dataframe tbody tr th {\n",
       "        vertical-align: top;\n",
       "    }\n",
       "\n",
       "    .dataframe thead th {\n",
       "        text-align: right;\n",
       "    }\n",
       "</style>\n",
       "<table border=\"1\" class=\"dataframe\">\n",
       "  <thead>\n",
       "    <tr style=\"text-align: right;\">\n",
       "      <th></th>\n",
       "      <th>cm_dummy</th>\n",
       "      <th>gamedummy</th>\n",
       "      <th>area_kanto</th>\n",
       "      <th>area_keihan</th>\n",
       "      <th>area_tokai</th>\n",
       "      <th>area_keihanshin</th>\n",
       "      <th>age</th>\n",
       "      <th>sex</th>\n",
       "      <th>marry_dummy</th>\n",
       "      <th>job_dummy1</th>\n",
       "      <th>...</th>\n",
       "      <th>T</th>\n",
       "      <th>F1</th>\n",
       "      <th>F2</th>\n",
       "      <th>F3</th>\n",
       "      <th>M1</th>\n",
       "      <th>M2</th>\n",
       "      <th>M3</th>\n",
       "      <th>TVwatch_day</th>\n",
       "      <th>gamesecond</th>\n",
       "      <th>gamecount</th>\n",
       "    </tr>\n",
       "  </thead>\n",
       "  <tbody>\n",
       "    <tr>\n",
       "      <th>0</th>\n",
       "      <td>0</td>\n",
       "      <td>0</td>\n",
       "      <td>0</td>\n",
       "      <td>0</td>\n",
       "      <td>0</td>\n",
       "      <td>1</td>\n",
       "      <td>44.5</td>\n",
       "      <td>1</td>\n",
       "      <td>1</td>\n",
       "      <td>1</td>\n",
       "      <td>...</td>\n",
       "      <td>0</td>\n",
       "      <td>0</td>\n",
       "      <td>0</td>\n",
       "      <td>0</td>\n",
       "      <td>0</td>\n",
       "      <td>1</td>\n",
       "      <td>0</td>\n",
       "      <td>33.427600</td>\n",
       "      <td>0</td>\n",
       "      <td>0</td>\n",
       "    </tr>\n",
       "    <tr>\n",
       "      <th>1</th>\n",
       "      <td>0</td>\n",
       "      <td>0</td>\n",
       "      <td>0</td>\n",
       "      <td>1</td>\n",
       "      <td>0</td>\n",
       "      <td>0</td>\n",
       "      <td>34.5</td>\n",
       "      <td>1</td>\n",
       "      <td>1</td>\n",
       "      <td>1</td>\n",
       "      <td>...</td>\n",
       "      <td>0</td>\n",
       "      <td>0</td>\n",
       "      <td>0</td>\n",
       "      <td>0</td>\n",
       "      <td>0</td>\n",
       "      <td>1</td>\n",
       "      <td>0</td>\n",
       "      <td>31.542862</td>\n",
       "      <td>0</td>\n",
       "      <td>0</td>\n",
       "    </tr>\n",
       "    <tr>\n",
       "      <th>2</th>\n",
       "      <td>0</td>\n",
       "      <td>0</td>\n",
       "      <td>0</td>\n",
       "      <td>1</td>\n",
       "      <td>0</td>\n",
       "      <td>0</td>\n",
       "      <td>24.5</td>\n",
       "      <td>1</td>\n",
       "      <td>0</td>\n",
       "      <td>0</td>\n",
       "      <td>...</td>\n",
       "      <td>0</td>\n",
       "      <td>0</td>\n",
       "      <td>0</td>\n",
       "      <td>0</td>\n",
       "      <td>1</td>\n",
       "      <td>0</td>\n",
       "      <td>0</td>\n",
       "      <td>37.825805</td>\n",
       "      <td>0</td>\n",
       "      <td>0</td>\n",
       "    </tr>\n",
       "    <tr>\n",
       "      <th>3</th>\n",
       "      <td>0</td>\n",
       "      <td>0</td>\n",
       "      <td>0</td>\n",
       "      <td>1</td>\n",
       "      <td>0</td>\n",
       "      <td>0</td>\n",
       "      <td>44.5</td>\n",
       "      <td>1</td>\n",
       "      <td>1</td>\n",
       "      <td>1</td>\n",
       "      <td>...</td>\n",
       "      <td>0</td>\n",
       "      <td>0</td>\n",
       "      <td>0</td>\n",
       "      <td>0</td>\n",
       "      <td>0</td>\n",
       "      <td>1</td>\n",
       "      <td>0</td>\n",
       "      <td>36.345911</td>\n",
       "      <td>0</td>\n",
       "      <td>0</td>\n",
       "    </tr>\n",
       "    <tr>\n",
       "      <th>4</th>\n",
       "      <td>0</td>\n",
       "      <td>0</td>\n",
       "      <td>0</td>\n",
       "      <td>1</td>\n",
       "      <td>0</td>\n",
       "      <td>0</td>\n",
       "      <td>34.5</td>\n",
       "      <td>1</td>\n",
       "      <td>1</td>\n",
       "      <td>1</td>\n",
       "      <td>...</td>\n",
       "      <td>0</td>\n",
       "      <td>0</td>\n",
       "      <td>0</td>\n",
       "      <td>0</td>\n",
       "      <td>1</td>\n",
       "      <td>0</td>\n",
       "      <td>0</td>\n",
       "      <td>49.344942</td>\n",
       "      <td>0</td>\n",
       "      <td>0</td>\n",
       "    </tr>\n",
       "  </tbody>\n",
       "</table>\n",
       "<p>5 rows × 35 columns</p>\n",
       "</div>"
      ],
      "text/plain": [
       "   cm_dummy  gamedummy  area_kanto  area_keihan  area_tokai  area_keihanshin  \\\n",
       "0         0          0           0            0           0                1   \n",
       "1         0          0           0            1           0                0   \n",
       "2         0          0           0            1           0                0   \n",
       "3         0          0           0            1           0                0   \n",
       "4         0          0           0            1           0                0   \n",
       "\n",
       "    age  sex  marry_dummy  job_dummy1  ...  T  F1  F2  F3  M1  M2  M3  \\\n",
       "0  44.5    1            1           1  ...  0   0   0   0   0   1   0   \n",
       "1  34.5    1            1           1  ...  0   0   0   0   0   1   0   \n",
       "2  24.5    1            0           0  ...  0   0   0   0   1   0   0   \n",
       "3  44.5    1            1           1  ...  0   0   0   0   0   1   0   \n",
       "4  34.5    1            1           1  ...  0   0   0   0   1   0   0   \n",
       "\n",
       "   TVwatch_day  gamesecond  gamecount  \n",
       "0    33.427600           0          0  \n",
       "1    31.542862           0          0  \n",
       "2    37.825805           0          0  \n",
       "3    36.345911           0          0  \n",
       "4    49.344942           0          0  \n",
       "\n",
       "[5 rows x 35 columns]"
      ]
     },
     "execution_count": 4,
     "metadata": {},
     "output_type": "execute_result"
    }
   ],
   "source": [
    "print(f'データサイズ: {raw_df.shape[0]:,}')\n",
    "raw_df.head()"
   ]
  },
  {
   "cell_type": "markdown",
   "metadata": {},
   "source": [
    "## 単純な平均値の差を取る問題点"
   ]
  },
  {
   "cell_type": "code",
   "execution_count": 5,
   "metadata": {},
   "outputs": [
    {
     "name": "stdout",
     "output_type": "stream",
     "text": [
      "CM接触者数とアプリ使用者数の関係\n"
     ]
    },
    {
     "data": {
      "text/html": [
       "<div>\n",
       "<style scoped>\n",
       "    .dataframe tbody tr th:only-of-type {\n",
       "        vertical-align: middle;\n",
       "    }\n",
       "\n",
       "    .dataframe tbody tr th {\n",
       "        vertical-align: top;\n",
       "    }\n",
       "\n",
       "    .dataframe thead tr th {\n",
       "        text-align: left;\n",
       "    }\n",
       "\n",
       "    .dataframe thead tr:last-of-type th {\n",
       "        text-align: right;\n",
       "    }\n",
       "</style>\n",
       "<table border=\"1\" class=\"dataframe\">\n",
       "  <thead>\n",
       "    <tr>\n",
       "      <th></th>\n",
       "      <th colspan=\"3\" halign=\"left\">count</th>\n",
       "    </tr>\n",
       "    <tr>\n",
       "      <th>gamedummy</th>\n",
       "      <th>0</th>\n",
       "      <th>1</th>\n",
       "      <th>All</th>\n",
       "    </tr>\n",
       "    <tr>\n",
       "      <th>cm_dummy</th>\n",
       "      <th></th>\n",
       "      <th></th>\n",
       "      <th></th>\n",
       "    </tr>\n",
       "  </thead>\n",
       "  <tbody>\n",
       "    <tr>\n",
       "      <th>0</th>\n",
       "      <td>5428</td>\n",
       "      <td>428</td>\n",
       "      <td>5856</td>\n",
       "    </tr>\n",
       "    <tr>\n",
       "      <th>1</th>\n",
       "      <td>3832</td>\n",
       "      <td>312</td>\n",
       "      <td>4144</td>\n",
       "    </tr>\n",
       "    <tr>\n",
       "      <th>All</th>\n",
       "      <td>9260</td>\n",
       "      <td>740</td>\n",
       "      <td>10000</td>\n",
       "    </tr>\n",
       "  </tbody>\n",
       "</table>\n",
       "</div>"
      ],
      "text/plain": [
       "          count            \n",
       "gamedummy     0    1    All\n",
       "cm_dummy                   \n",
       "0          5428  428   5856\n",
       "1          3832  312   4144\n",
       "All        9260  740  10000"
      ]
     },
     "execution_count": 5,
     "metadata": {},
     "output_type": "execute_result"
    }
   ],
   "source": [
    "print('CM接触者数とアプリ使用者数の関係')\n",
    "pd.pivot_table(\n",
    "    raw_df.reset_index(), \n",
    "    values='index', \n",
    "    index=['cm_dummy'], \n",
    "    columns=['gamedummy'],\n",
    "    aggfunc=['count'],\n",
    "    margins=True\n",
    ")"
   ]
  },
  {
   "cell_type": "markdown",
   "metadata": {},
   "source": [
    "上記のデータからわかること。\n",
    "\n",
    "- 対象サンプルは、10,000人\n",
    "- 全体のCM接触者は、4,144人\n",
    "- アプリ利用者は、740人"
   ]
  },
  {
   "cell_type": "code",
   "execution_count": 6,
   "metadata": {},
   "outputs": [
    {
     "name": "stdout",
     "output_type": "stream",
     "text": [
      "CM接触有無によるアプリ使用状況との関係\n"
     ]
    },
    {
     "data": {
      "text/html": [
       "<div>\n",
       "<style scoped>\n",
       "    .dataframe tbody tr th:only-of-type {\n",
       "        vertical-align: middle;\n",
       "    }\n",
       "\n",
       "    .dataframe tbody tr th {\n",
       "        vertical-align: top;\n",
       "    }\n",
       "\n",
       "    .dataframe thead th {\n",
       "        text-align: right;\n",
       "    }\n",
       "</style>\n",
       "<table border=\"1\" class=\"dataframe\">\n",
       "  <thead>\n",
       "    <tr style=\"text-align: right;\">\n",
       "      <th></th>\n",
       "      <th>cm_dummy</th>\n",
       "      <th>0</th>\n",
       "      <th>1</th>\n",
       "    </tr>\n",
       "  </thead>\n",
       "  <tbody>\n",
       "    <tr>\n",
       "      <th rowspan=\"2\" valign=\"top\">gamedummy</th>\n",
       "      <th>mean</th>\n",
       "      <td>0.073</td>\n",
       "      <td>0.075</td>\n",
       "    </tr>\n",
       "    <tr>\n",
       "      <th>std</th>\n",
       "      <td>0.260</td>\n",
       "      <td>0.264</td>\n",
       "    </tr>\n",
       "    <tr>\n",
       "      <th rowspan=\"2\" valign=\"top\">gamecount</th>\n",
       "      <th>mean</th>\n",
       "      <td>10.048</td>\n",
       "      <td>8.564</td>\n",
       "    </tr>\n",
       "    <tr>\n",
       "      <th>std</th>\n",
       "      <td>55.267</td>\n",
       "      <td>53.331</td>\n",
       "    </tr>\n",
       "    <tr>\n",
       "      <th rowspan=\"2\" valign=\"top\">gamesecond</th>\n",
       "      <th>mean</th>\n",
       "      <td>3107.706</td>\n",
       "      <td>2478.066</td>\n",
       "    </tr>\n",
       "    <tr>\n",
       "      <th>std</th>\n",
       "      <td>19496.772</td>\n",
       "      <td>15564.015</td>\n",
       "    </tr>\n",
       "  </tbody>\n",
       "</table>\n",
       "</div>"
      ],
      "text/plain": [
       "cm_dummy                 0          1\n",
       "gamedummy  mean      0.073      0.075\n",
       "           std       0.260      0.264\n",
       "gamecount  mean     10.048      8.564\n",
       "           std      55.267     53.331\n",
       "gamesecond mean   3107.706   2478.066\n",
       "           std   19496.772  15564.015"
      ]
     },
     "execution_count": 6,
     "metadata": {},
     "output_type": "execute_result"
    }
   ],
   "source": [
    "print('CM接触有無によるアプリ使用状況との関係')\n",
    "raw_df.groupby('cm_dummy')[\n",
    "    'gamedummy', 'gamecount', 'gamesecond'\n",
    "].agg(['mean', 'std']).T.round(3)"
   ]
  },
  {
   "cell_type": "markdown",
   "metadata": {},
   "source": [
    "- CMを見た人のアプリ利用時間：2,478\n",
    "- CMを見なかった人のアプリ利用時間：3,107\n",
    "\n",
    "となっており、CMを見たことで 629秒アプリの使用時間が短くなった。\n",
    "\n",
    "しかしこれは明らかに不自然な結果といえる。"
   ]
  },
  {
   "cell_type": "markdown",
   "metadata": {},
   "source": [
    "## セレクションバイアス\n",
    "\n",
    "グラフからわかる通り、CM非接触群はそもそもテレビを見ない人が多い。"
   ]
  },
  {
   "cell_type": "code",
   "execution_count": 7,
   "metadata": {},
   "outputs": [
    {
     "data": {
      "text/html": [
       "<div>\n",
       "<style scoped>\n",
       "    .dataframe tbody tr th:only-of-type {\n",
       "        vertical-align: middle;\n",
       "    }\n",
       "\n",
       "    .dataframe tbody tr th {\n",
       "        vertical-align: top;\n",
       "    }\n",
       "\n",
       "    .dataframe thead th {\n",
       "        text-align: right;\n",
       "    }\n",
       "</style>\n",
       "<table border=\"1\" class=\"dataframe\">\n",
       "  <thead>\n",
       "    <tr style=\"text-align: right;\">\n",
       "      <th></th>\n",
       "      <th>cm_dummy</th>\n",
       "      <th>0</th>\n",
       "      <th>1</th>\n",
       "    </tr>\n",
       "  </thead>\n",
       "  <tbody>\n",
       "    <tr>\n",
       "      <th rowspan=\"2\" valign=\"top\">TVwatch_day</th>\n",
       "      <th>mean</th>\n",
       "      <td>5714.982</td>\n",
       "      <td>11461.881</td>\n",
       "    </tr>\n",
       "    <tr>\n",
       "      <th>std</th>\n",
       "      <td>5690.371</td>\n",
       "      <td>8851.091</td>\n",
       "    </tr>\n",
       "    <tr>\n",
       "      <th rowspan=\"2\" valign=\"top\">area_kanto</th>\n",
       "      <th>mean</th>\n",
       "      <td>0.063</td>\n",
       "      <td>0.131</td>\n",
       "    </tr>\n",
       "    <tr>\n",
       "      <th>std</th>\n",
       "      <td>0.243</td>\n",
       "      <td>0.337</td>\n",
       "    </tr>\n",
       "    <tr>\n",
       "      <th rowspan=\"2\" valign=\"top\">area_keihan</th>\n",
       "      <th>mean</th>\n",
       "      <td>0.509</td>\n",
       "      <td>0.701</td>\n",
       "    </tr>\n",
       "    <tr>\n",
       "      <th>std</th>\n",
       "      <td>0.500</td>\n",
       "      <td>0.458</td>\n",
       "    </tr>\n",
       "    <tr>\n",
       "      <th rowspan=\"2\" valign=\"top\">area_tokai</th>\n",
       "      <th>mean</th>\n",
       "      <td>0.124</td>\n",
       "      <td>0.093</td>\n",
       "    </tr>\n",
       "    <tr>\n",
       "      <th>std</th>\n",
       "      <td>0.330</td>\n",
       "      <td>0.291</td>\n",
       "    </tr>\n",
       "    <tr>\n",
       "      <th rowspan=\"2\" valign=\"top\">area_keihanshin</th>\n",
       "      <th>mean</th>\n",
       "      <td>0.303</td>\n",
       "      <td>0.075</td>\n",
       "    </tr>\n",
       "    <tr>\n",
       "      <th>std</th>\n",
       "      <td>0.460</td>\n",
       "      <td>0.263</td>\n",
       "    </tr>\n",
       "  </tbody>\n",
       "</table>\n",
       "</div>"
      ],
      "text/plain": [
       "cm_dummy                     0          1\n",
       "TVwatch_day     mean  5714.982  11461.881\n",
       "                std   5690.371   8851.091\n",
       "area_kanto      mean     0.063      0.131\n",
       "                std      0.243      0.337\n",
       "area_keihan     mean     0.509      0.701\n",
       "                std      0.500      0.458\n",
       "area_tokai      mean     0.124      0.093\n",
       "                std      0.330      0.291\n",
       "area_keihanshin mean     0.303      0.075\n",
       "                std      0.460      0.263"
      ]
     },
     "execution_count": 7,
     "metadata": {},
     "output_type": "execute_result"
    }
   ],
   "source": [
    "raw_df.groupby('cm_dummy')[\n",
    "    'TVwatch_day', 'area_kanto', 'area_keihan', 'area_tokai', 'area_keihanshin'\n",
    "].agg(['mean', 'std']).T.round(3)"
   ]
  },
  {
   "cell_type": "code",
   "execution_count": 8,
   "metadata": {},
   "outputs": [
    {
     "data": {
      "image/png": "[encoded data removed]",
      "text/plain": [
       "<Figure size 432x288 with 1 Axes>"
      ]
     },
     "metadata": {
      "needs_background": "light"
     },
     "output_type": "display_data"
    }
   ],
   "source": [
    "plot_df = raw_df.copy()\n",
    "plt.title('TVwatch_day')\n",
    "plt.ylabel('Number of people')\n",
    "plt.xlabel('Time of TVwatch_day')\n",
    "plot_df.loc[plot_df['cm_dummy']==0, 'TVwatch_day'].hist(\n",
    "    bins=np.arange(0, 30000, 1000), align='left', rwidth=0.4, color='orange', label='control')\n",
    "plot_df.loc[plot_df['cm_dummy']==1, 'TVwatch_day'].hist(\n",
    "    bins=np.arange(0, 30000, 1000), align='mid', rwidth=0.4, color='blue', label='treat')\n",
    "plt.legend()\n",
    "plt.show()"
   ]
  },
  {
   "cell_type": "markdown",
   "metadata": {},
   "source": [
    "## 平均処置効果ATEの推定\n",
    "\n",
    "岩波データサイエンス vol.03 に合わせて、IPWによるセレクションバイアスを補正した因果効果の推定を行う。"
   ]
  },
  {
   "cell_type": "code",
   "execution_count": 238,
   "metadata": {},
   "outputs": [
    {
     "name": "stdout",
     "output_type": "stream",
     "text": [
      "The autoreload extension is already loaded. To reload it, use:\n",
      "  %reload_ext autoreload\n"
     ]
    }
   ],
   "source": [
    "%load_ext autoreload\n",
    "%autoreload\n",
    "from libs import PropensityScoreMatching"
   ]
  },
  {
   "cell_type": "code",
   "execution_count": 262,
   "metadata": {},
   "outputs": [],
   "source": [
    "from sklearn import preprocessing\n",
    "from sklearn.linear_model import LogisticRegression"
   ]
  },
  {
   "cell_type": "code",
   "execution_count": 308,
   "metadata": {},
   "outputs": [],
   "source": [
    "drop_data = raw_df[['gamedummy', 'gamesecond', 'gamecount']]\n",
    "\n",
    "use_cols = [\n",
    "    'cm_dummy', 'TVwatch_day', 'age', 'sex', 'marry_dummy', 'child_dummy', 'inc', 'pmoney', 'area_kanto',\n",
    "    'area_tokai', 'area_keihanshin', 'job_dummy1', 'job_dummy2', 'job_dummy3', 'job_dummy4', 'job_dummy5',\n",
    "    'job_dummy6', 'job_dummy7', 'fam_str_dummy1', 'fam_str_dummy2','fam_str_dummy3', 'fam_str_dummy4'\n",
    "]"
   ]
  },
  {
   "cell_type": "code",
   "execution_count": 309,
   "metadata": {},
   "outputs": [],
   "source": [
    "treatment = 'cm_dummy'\n",
    "\n",
    "model = LogisticRegression\n",
    "params = {'solver': 'lbfgs', 'max_iter': 1000, 'random_state': 7}\n",
    "scaler = preprocessing.MinMaxScaler()\n",
    "\n",
    "pscore_model = PropensityScoreMatching(raw_df[use_cols], treatment)\n",
    "pscore_model.fit(model, params, scaler)\n",
    "transformed_df = pscore_model.predict(threshold=None)"
   ]
  },
  {
   "cell_type": "code",
   "execution_count": 310,
   "metadata": {},
   "outputs": [
    {
     "name": "stdout",
     "output_type": "stream",
     "text": [
      "(11712, 23)\n"
     ]
    },
    {
     "data": {
      "text/html": [
       "<div>\n",
       "<style scoped>\n",
       "    .dataframe tbody tr th:only-of-type {\n",
       "        vertical-align: middle;\n",
       "    }\n",
       "\n",
       "    .dataframe tbody tr th {\n",
       "        vertical-align: top;\n",
       "    }\n",
       "\n",
       "    .dataframe thead th {\n",
       "        text-align: right;\n",
       "    }\n",
       "</style>\n",
       "<table border=\"1\" class=\"dataframe\">\n",
       "  <thead>\n",
       "    <tr style=\"text-align: right;\">\n",
       "      <th></th>\n",
       "      <th>cm_dummy</th>\n",
       "      <th>TVwatch_day</th>\n",
       "      <th>age</th>\n",
       "      <th>sex</th>\n",
       "      <th>marry_dummy</th>\n",
       "      <th>child_dummy</th>\n",
       "      <th>inc</th>\n",
       "      <th>pmoney</th>\n",
       "      <th>area_kanto</th>\n",
       "      <th>area_tokai</th>\n",
       "      <th>...</th>\n",
       "      <th>job_dummy3</th>\n",
       "      <th>job_dummy4</th>\n",
       "      <th>job_dummy5</th>\n",
       "      <th>job_dummy6</th>\n",
       "      <th>job_dummy7</th>\n",
       "      <th>fam_str_dummy1</th>\n",
       "      <th>fam_str_dummy2</th>\n",
       "      <th>fam_str_dummy3</th>\n",
       "      <th>fam_str_dummy4</th>\n",
       "      <th>p_score</th>\n",
       "    </tr>\n",
       "  </thead>\n",
       "  <tbody>\n",
       "    <tr>\n",
       "      <th>0</th>\n",
       "      <td>1</td>\n",
       "      <td>6877.865092</td>\n",
       "      <td>34.5</td>\n",
       "      <td>1</td>\n",
       "      <td>0</td>\n",
       "      <td>0</td>\n",
       "      <td>249.5</td>\n",
       "      <td>4.0</td>\n",
       "      <td>0</td>\n",
       "      <td>0</td>\n",
       "      <td>...</td>\n",
       "      <td>0</td>\n",
       "      <td>0</td>\n",
       "      <td>0</td>\n",
       "      <td>0</td>\n",
       "      <td>0</td>\n",
       "      <td>0</td>\n",
       "      <td>0</td>\n",
       "      <td>0</td>\n",
       "      <td>0</td>\n",
       "      <td>0.058415</td>\n",
       "    </tr>\n",
       "    <tr>\n",
       "      <th>1</th>\n",
       "      <td>1</td>\n",
       "      <td>5714.163247</td>\n",
       "      <td>34.5</td>\n",
       "      <td>1</td>\n",
       "      <td>1</td>\n",
       "      <td>1</td>\n",
       "      <td>549.5</td>\n",
       "      <td>2.0</td>\n",
       "      <td>0</td>\n",
       "      <td>1</td>\n",
       "      <td>...</td>\n",
       "      <td>0</td>\n",
       "      <td>0</td>\n",
       "      <td>0</td>\n",
       "      <td>0</td>\n",
       "      <td>0</td>\n",
       "      <td>0</td>\n",
       "      <td>0</td>\n",
       "      <td>1</td>\n",
       "      <td>0</td>\n",
       "      <td>0.262466</td>\n",
       "    </tr>\n",
       "    <tr>\n",
       "      <th>2</th>\n",
       "      <td>1</td>\n",
       "      <td>3257.376396</td>\n",
       "      <td>34.5</td>\n",
       "      <td>0</td>\n",
       "      <td>0</td>\n",
       "      <td>0</td>\n",
       "      <td>249.5</td>\n",
       "      <td>6.5</td>\n",
       "      <td>0</td>\n",
       "      <td>1</td>\n",
       "      <td>...</td>\n",
       "      <td>1</td>\n",
       "      <td>0</td>\n",
       "      <td>0</td>\n",
       "      <td>0</td>\n",
       "      <td>0</td>\n",
       "      <td>0</td>\n",
       "      <td>0</td>\n",
       "      <td>0</td>\n",
       "      <td>1</td>\n",
       "      <td>0.188688</td>\n",
       "    </tr>\n",
       "    <tr>\n",
       "      <th>3</th>\n",
       "      <td>1</td>\n",
       "      <td>6738.858728</td>\n",
       "      <td>54.5</td>\n",
       "      <td>0</td>\n",
       "      <td>0</td>\n",
       "      <td>1</td>\n",
       "      <td>0.0</td>\n",
       "      <td>2.0</td>\n",
       "      <td>0</td>\n",
       "      <td>1</td>\n",
       "      <td>...</td>\n",
       "      <td>0</td>\n",
       "      <td>0</td>\n",
       "      <td>0</td>\n",
       "      <td>0</td>\n",
       "      <td>0</td>\n",
       "      <td>0</td>\n",
       "      <td>0</td>\n",
       "      <td>0</td>\n",
       "      <td>1</td>\n",
       "      <td>0.234179</td>\n",
       "    </tr>\n",
       "    <tr>\n",
       "      <th>4</th>\n",
       "      <td>1</td>\n",
       "      <td>4619.352745</td>\n",
       "      <td>34.5</td>\n",
       "      <td>1</td>\n",
       "      <td>1</td>\n",
       "      <td>1</td>\n",
       "      <td>449.5</td>\n",
       "      <td>4.0</td>\n",
       "      <td>0</td>\n",
       "      <td>1</td>\n",
       "      <td>...</td>\n",
       "      <td>0</td>\n",
       "      <td>0</td>\n",
       "      <td>0</td>\n",
       "      <td>0</td>\n",
       "      <td>0</td>\n",
       "      <td>0</td>\n",
       "      <td>0</td>\n",
       "      <td>1</td>\n",
       "      <td>0</td>\n",
       "      <td>0.249318</td>\n",
       "    </tr>\n",
       "  </tbody>\n",
       "</table>\n",
       "<p>5 rows × 23 columns</p>\n",
       "</div>"
      ],
      "text/plain": [
       "   cm_dummy  TVwatch_day   age  sex  marry_dummy  child_dummy    inc  pmoney  \\\n",
       "0         1  6877.865092  34.5    1            0            0  249.5     4.0   \n",
       "1         1  5714.163247  34.5    1            1            1  549.5     2.0   \n",
       "2         1  3257.376396  34.5    0            0            0  249.5     6.5   \n",
       "3         1  6738.858728  54.5    0            0            1    0.0     2.0   \n",
       "4         1  4619.352745  34.5    1            1            1  449.5     4.0   \n",
       "\n",
       "   area_kanto  area_tokai  ...  job_dummy3  job_dummy4  job_dummy5  \\\n",
       "0           0           0  ...           0           0           0   \n",
       "1           0           1  ...           0           0           0   \n",
       "2           0           1  ...           1           0           0   \n",
       "3           0           1  ...           0           0           0   \n",
       "4           0           1  ...           0           0           0   \n",
       "\n",
       "   job_dummy6  job_dummy7  fam_str_dummy1  fam_str_dummy2  fam_str_dummy3  \\\n",
       "0           0           0               0               0               0   \n",
       "1           0           0               0               0               1   \n",
       "2           0           0               0               0               0   \n",
       "3           0           0               0               0               0   \n",
       "4           0           0               0               0               1   \n",
       "\n",
       "   fam_str_dummy4   p_score  \n",
       "0               0  0.058415  \n",
       "1               0  0.262466  \n",
       "2               1  0.188688  \n",
       "3               1  0.234179  \n",
       "4               0  0.249318  \n",
       "\n",
       "[5 rows x 23 columns]"
      ]
     },
     "execution_count": 310,
     "metadata": {},
     "output_type": "execute_result"
    }
   ],
   "source": [
    "print(transformed_df.shape)\n",
    "transformed_df.head()"
   ]
  },
  {
   "cell_type": "code",
   "execution_count": 311,
   "metadata": {},
   "outputs": [
    {
     "data": {
      "image/png": "[encoded data removed]",
      "text/plain": [
       "<Figure size 432x288 with 1 Axes>"
      ]
     },
     "metadata": {
      "needs_background": "light"
     },
     "output_type": "display_data"
    },
    {
     "data": {
      "image/png": "[encoded data removed]",
      "text/plain": [
       "<Figure size 432x288 with 1 Axes>"
      ]
     },
     "metadata": {
      "needs_background": "light"
     },
     "output_type": "display_data"
    }
   ],
   "source": [
    "plot_df = transformed_df.copy()\n",
    "plt.title('TVwatch_day')\n",
    "plt.ylabel('Number of people')\n",
    "plt.xlabel('Time of TVwatch_day')\n",
    "plot_df.loc[plot_df['cm_dummy']==0, 'TVwatch_day'].hist(\n",
    "    bins=np.arange(0, 30000, 1000), align='left', rwidth=0.4, color='orange', label='control')\n",
    "plot_df.loc[plot_df['cm_dummy']==1, 'TVwatch_day'].hist(\n",
    "    bins=np.arange(0, 30000, 1000), align='mid', rwidth=0.4, color='blue', label='treat')\n",
    "plt.legend()\n",
    "plt.show()\n",
    "\n",
    "plt.title('Propensity Score')\n",
    "plt.ylabel('Number of people')\n",
    "plt.xlabel('Propensity Score')\n",
    "plt.xlim(-0.05, 1.0)\n",
    "plot_df.loc[plot_df['cm_dummy']==0, 'p_score'].hist(\n",
    "    bins=np.arange(0, 1, 0.05), align='left', rwidth=0.4, color='orange', label='control')\n",
    "plot_df.loc[plot_df['cm_dummy']==1, 'p_score'].hist(\n",
    "    bins=np.arange(0, 1, 0.05), align='mid', rwidth=0.4, color='blue', label='treat')\n",
    "plt.legend()\n",
    "plt.show()"
   ]
  },
  {
   "cell_type": "markdown",
   "metadata": {},
   "source": [
    "上記の図から、テレビの視聴時間と合わせて、傾向スコアの分布も２群間で揃っていることがわかる。\n",
    "\n",
    "続いて、平均処置効果（ATE）を推定する。"
   ]
  },
  {
   "cell_type": "code",
   "execution_count": 313,
   "metadata": {},
   "outputs": [],
   "source": [
    "# temp = pscore_model.df\n",
    "\n",
    "# sum(temp['cm_dummy']*temp[outcome]/temp['p_score']) / sum(temp['cm_dummy']/temp['p_score']) - \\\n",
    "#     sum((1-temp['cm_dummy'])*temp[outcome]/(1-temp['p_score'])) / sum( (1-temp['cm_dummy'])/(1-temp['p_score']) )"
   ]
  },
  {
   "cell_type": "code",
   "execution_count": 314,
   "metadata": {},
   "outputs": [],
   "source": [
    "# sum(temp['cm_dummy']*temp[outcome]/temp['p_score']) / sum(temp['cm_dummy']/temp['p_score']) - \\\n",
    "#     sum((temp['cm_dummy'])*temp[outcome]/(1-temp['p_score'])) / sum( (temp['cm_dummy'])/(1-temp['p_score']) )"
   ]
  },
  {
   "cell_type": "code",
   "execution_count": 315,
   "metadata": {},
   "outputs": [
    {
     "name": "stdout",
     "output_type": "stream",
     "text": [
      "cm_dummy==0:  [2691.40711865]\n",
      "cm_dummy==1:  [3959.15531251]\n",
      "diff:  [1267.74819386]\n",
      "\n",
      "cm_dummy==0:  [2691.40711865]\n",
      "cm_dummy==1:  [3959.15531251]\n",
      "diff:  [1267.74819386]\n"
     ]
    }
   ],
   "source": [
    "'''ATE'''\n",
    "from sklearn.linear_model import LinearRegression\n",
    "\n",
    "temp = pscore_model.df\n",
    "temp = pd.concat([temp, drop_data], axis=1)\n",
    "weight = np.where(temp['cm_dummy']==1, 1/temp['p_score'], 1/(1-temp['p_score']))\n",
    "\n",
    "reg = LinearRegression(fit_intercept=False).fit(\n",
    "    pd.get_dummies(temp['cm_dummy']), temp[outcome], \n",
    "    sample_weight=weight\n",
    ")\n",
    "\n",
    "print('cm_dummy==0: ', reg.predict([[1, 0]]))\n",
    "print('cm_dummy==1: ', reg.predict([[0, 1]]))\n",
    "print('diff: ', reg.predict([[0, 1]]) - reg.predict([[1, 0]]))\n",
    "\n",
    "print('')\n",
    "\n",
    "reg = LinearRegression(fit_intercept=True).fit(\n",
    "    temp['cm_dummy'].to_frame(), temp[outcome], \n",
    "    sample_weight=weight\n",
    ")\n",
    "\n",
    "print('cm_dummy==0: ', reg.predict([[0]]))\n",
    "print('cm_dummy==1: ', reg.predict([[1]]))\n",
    "print('diff: ', reg.predict([[1]]) - reg.predict([[0]]))"
   ]
  },
  {
   "cell_type": "code",
   "execution_count": 316,
   "metadata": {},
   "outputs": [
    {
     "name": "stdout",
     "output_type": "stream",
     "text": [
      "cm_dummy==0:  [2170.99543494]\n",
      "cm_dummy==1:  [2478.06587838]\n",
      "diff:  [307.07044344]\n",
      "\n",
      "cm_dummy==0:  [2170.99543494]\n",
      "cm_dummy==1:  [2478.06587838]\n",
      "diff:  [307.07044344]\n"
     ]
    }
   ],
   "source": [
    "'''ATT'''\n",
    "from sklearn.linear_model import LinearRegression\n",
    "\n",
    "temp = pscore_model.df\n",
    "temp = pd.concat([temp, drop_data], axis=1)\n",
    "weight = np.where(temp['cm_dummy'], 1, temp['p_score']/(1-temp['p_score']))\n",
    "\n",
    "reg = LinearRegression(fit_intercept=False).fit(\n",
    "    pd.get_dummies(temp['cm_dummy']), temp[outcome], \n",
    "    sample_weight=weight\n",
    ")\n",
    "\n",
    "print('cm_dummy==0: ', reg.predict([[1, 0]]))\n",
    "print('cm_dummy==1: ', reg.predict([[0, 1]]))\n",
    "print('diff: ', reg.predict([[0, 1]]) - reg.predict([[1, 0]]))\n",
    "\n",
    "print('')\n",
    "\n",
    "reg = LinearRegression(fit_intercept=True).fit(\n",
    "    temp['cm_dummy'].to_frame(), temp[outcome], \n",
    "    sample_weight=weight\n",
    ")\n",
    "\n",
    "print('cm_dummy==0: ', reg.predict([[0]]))\n",
    "print('cm_dummy==1: ', reg.predict([[1]]))\n",
    "print('diff: ', reg.predict([[1]]) - reg.predict([[0]]))"
   ]
  },
  {
   "cell_type": "code",
   "execution_count": null,
   "metadata": {},
   "outputs": [],
   "source": []
  },
  {
   "cell_type": "code",
   "execution_count": null,
   "metadata": {},
   "outputs": [],
   "source": []
  },
  {
   "cell_type": "code",
   "execution_count": null,
   "metadata": {},
   "outputs": [],
   "source": []
  },
  {
   "cell_type": "code",
   "execution_count": null,
   "metadata": {},
   "outputs": [],
   "source": []
  },
  {
   "cell_type": "code",
   "execution_count": null,
   "metadata": {},
   "outputs": [],
   "source": []
  }
 ],
 "metadata": {
  "kernelspec": {
   "display_name": "Python 3",
   "language": "python",
   "name": "python3"
  },
  "language_info": {
   "codemirror_mode": {
    "name": "ipython",
    "version": 3
   },
   "file_extension": ".py",
   "mimetype": "text/x-python",
   "name": "python",
   "nbconvert_exporter": "python",
   "pygments_lexer": "ipython3",
   "version": "3.7.5"
  }
 },
 "nbformat": 4,
 "nbformat_minor": 4
}
